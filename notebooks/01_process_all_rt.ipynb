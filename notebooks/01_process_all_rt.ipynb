{
 "cells": [
  {
   "cell_type": "markdown",
   "id": "efa50fa6",
   "metadata": {},
   "source": [
    "# Process all realtime JSON files"
   ]
  },
  {
   "cell_type": "markdown",
   "id": "18dbb836",
   "metadata": {},
   "source": [
    "This notebook parses all GTFS realtime JSON files in `data/raw` and writes processed Parquet files to `data/processed/rt`. Existing files will be overwritten."
   ]
  },
  {
   "cell_type": "code",
   "execution_count": 7,
   "id": "debe35bb",
   "metadata": {},
   "outputs": [],
   "source": [
    "from pathlib import Path\n",
    "from datetime import datetime\n",
    "import pandas as pd\n",
    "from metro_disruptions_intelligence.etl.ingest_rt import ingest_all_rt, union_all_feeds"
   ]
  },
  {
   "cell_type": "code",
   "execution_count": 8,
   "id": "0acca8f7",
   "metadata": {},
   "outputs": [],
   "source": [
    "raw_root = Path(\"data/raw\")\n",
    "processed_root = Path(\"data/processed/rt\")\n",
    "processed_root.mkdir(parents=True, exist_ok=True)"
   ]
  },
  {
   "cell_type": "code",
   "execution_count": 9,
   "metadata": {},
   "outputs": [],
   "source": [
    "start_time = datetime(2025, 1, 4)\n",
    "end_time = datetime(2025, 3, 31, 23, 59)"
   ]
  },
  {
   "cell_type": "code",
   "execution_count": 10,
   "id": "248c4099",
   "metadata": {},
   "outputs": [],
   "source": [
    "ingest_all_rt(raw_root, processed_root, start_time=start_time, end_time=end_time)"
   ]
  },
  {
   "cell_type": "code",
   "execution_count": 11,
   "id": "557d1aa4",
   "metadata": {},
   "outputs": [
    {
     "data": {
      "text/plain": [
       "WindowsPath('data/processed/station_event.parquet')"
      ]
     },
     "execution_count": 11,
     "metadata": {},
     "output_type": "execute_result"
    }
   ],
   "source": [
    "# optional: combine all feeds\n",
    "union_all_feeds(processed_root, processed_root.parent / \"station_event.parquet\")"
   ]
  },
  {
   "cell_type": "code",
   "execution_count": null,
   "id": "25ba3dda",
   "metadata": {},
   "outputs": [],
   "source": []
  }
 ],
 "metadata": {
  "kernelspec": {
   "display_name": "mdi_env",
   "language": "python",
   "name": "python3"
  },
  "language_info": {
   "codemirror_mode": {
    "name": "ipython",
    "version": 3
   },
   "file_extension": ".py",
   "mimetype": "text/x-python",
   "name": "python",
   "nbconvert_exporter": "python",
   "pygments_lexer": "ipython3",
   "version": "3.10.17"
  }
 },
 "nbformat": 4,
 "nbformat_minor": 5
}
