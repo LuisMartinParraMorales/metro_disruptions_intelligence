{
 "cells": [
  {
   "cell_type": "markdown",
   "id": "efa50fa6",
   "metadata": {},
   "source": [
    "# Process all realtime JSON files"
   ]
  },
  {
   "cell_type": "markdown",
   "id": "18dbb836",
   "metadata": {},
   "source": [
    "This notebook parses all GTFS realtime JSON files in `data/raw` and writes processed Parquet files to `data/processed/rt`. Existing files will be overwritten."
   ]
  },
  {
   "cell_type": "code",
   "execution_count": 1,
   "id": "debe35bb",
   "metadata": {},
   "outputs": [],
   "source": [
    "from pathlib import Path\n",
    "from datetime import datetime\n",
    "import pandas as pd\n",
    "from metro_disruptions_intelligence.etl.ingest_rt import ingest_all_rt, union_all_feeds"
   ]
  },
  {
   "cell_type": "code",
   "execution_count": null,
   "id": "252e9c93",
   "metadata": {},
   "outputs": [],
   "source": [
    "project_root = Path.cwd()\n",
    "if not (project_root / 'data').exists():\n",
    "    project_root = project_root.parent"
   ]
  },
  {
   "cell_type": "code",
   "execution_count": 2,
   "id": "0acca8f7",
   "metadata": {},
   "outputs": [],
   "source": [
    "raw_root = project_root / 'data' / 'raw'\n",
    "processed_root = project_root / 'data' / 'processed' / 'rt'\n",
    "processed_root.mkdir(parents=True, exist_ok=True)"
   ]
  },
  {
   "cell_type": "code",
   "execution_count": null,
   "id": "396d798b",
   "metadata": {},
   "outputs": [],
   "source": [
    "start_time = datetime(2025, 1, 4)\n",
    "end_time = datetime(2025, 3, 31, 23, 59)"
   ]
  },
  {
   "cell_type": "code",
   "execution_count": 3,
   "id": "248c4099",
   "metadata": {},
   "outputs": [
    {
     "data": {
      "text/plain": [
       "WindowsPath('data/processed/station_event.parquet')"
      ]
     },
     "execution_count": 3,
     "metadata": {},
     "output_type": "execute_result"
    }
   ],
   "source": [
    "ingest_all_rt(raw_root, processed_root, start_time=start_time, end_time=end_time)\n",
    "# optional: combine all feeds\n",
    "union_all_feeds(processed_root, processed_root.parent / \"station_event.parquet\")"
   ]
  },
  {
   "cell_type": "code",
   "execution_count": null,
   "id": "fbd12067",
   "metadata": {},
   "outputs": [],
   "source": [
    "unified_df = pd.read_parquet(processed_root.parent / 'station_event.parquet')\n",
    "unified_df.head()"
   ]
  }
 ],
 "metadata": {
  "kernelspec": {
   "display_name": "mdi_env",
   "language": "python",
   "name": "python3"
  },
  "language_info": {
   "codemirror_mode": {
    "name": "ipython",
    "version": 3
   },
   "file_extension": ".py",
   "mimetype": "text/x-python",
   "name": "python",
   "nbconvert_exporter": "python",
   "pygments_lexer": "ipython3",
   "version": "3.10.17"
  }
 },
 "nbformat": 4,
 "nbformat_minor": 5
}
