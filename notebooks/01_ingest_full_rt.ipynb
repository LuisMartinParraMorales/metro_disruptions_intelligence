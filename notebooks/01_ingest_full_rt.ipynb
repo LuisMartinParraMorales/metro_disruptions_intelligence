{
 "cells": [
  {
   "cell_type": "markdown",
   "id": "9d381f55",
   "metadata": {},
   "source": [
    "# Ingest full real-time feeds"
   ]
  },
  {
   "cell_type": "code",
   "execution_count": 1,
   "id": "8b0bceee",
   "metadata": {},
   "outputs": [],
   "source": [
    "from pathlib import Path\n",
    "from metro_disruptions_intelligence.etl.ingest_rt import ingest_all_rt, union_all_feeds\n",
    "import pandas as pd"
   ]
  },
  {
   "cell_type": "code",
   "execution_count": null,
   "id": "94ccfdba",
   "metadata": {},
   "outputs": [],
   "source": [
    "project_root = Path.cwd()\n",
    "if not (project_root / 'sample_data').exists():\n",
    "    project_root = project_root.parent\n",
    "\n",
    "raw_root = project_root / 'data' / 'raw'\n",
    "processed_rt = project_root / 'data' / 'processed_final' / 'rt'"
   ]
  },
  {
   "cell_type": "code",
   "execution_count": 4,
   "id": "070330d3",
   "metadata": {},
   "outputs": [],
   "source": [
    "ingest_all_rt(raw_root, processed_rt)"
   ]
  },
  {
   "cell_type": "code",
   "execution_count": null,
   "id": "25ab29c0",
   "metadata": {},
   "outputs": [],
   "source": [
    "union_all_feeds(processed_rt, processed_rt / 'station_event.parquet')"
   ]
  },
  {
   "cell_type": "code",
   "execution_count": null,
   "id": "5bd4cb8d",
   "metadata": {},
   "outputs": [],
   "source": [
    "df = pd.read_parquet(processed_rt / 'station_event.parquet')\n",
    "df.head()"
   ]
  }
 ],
 "metadata": {
  "kernelspec": {
   "display_name": "mdi_env",
   "language": "python",
   "name": "python3"
  },
  "language_info": {
   "codemirror_mode": {
    "name": "ipython",
    "version": 3
   },
   "file_extension": ".py",
   "mimetype": "text/x-python",
   "name": "python",
   "nbconvert_exporter": "python",
   "pygments_lexer": "ipython3",
   "version": "3.10.17"
  }
 },
 "nbformat": 4,
 "nbformat_minor": 5
}
