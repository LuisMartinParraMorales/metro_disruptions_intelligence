{
 "cells": [
  {
   "cell_type": "markdown",
   "id": "ce813621",
   "metadata": {},
   "source": [
    "# Run anomaly detection"
   ]
  },
  {
   "cell_type": "code",
   "execution_count": 1,
   "id": "c5525f14",
   "metadata": {},
   "outputs": [
    {
     "name": "stdout",
     "output_type": "stream",
     "text": [
      "Note: you may need to restart the kernel to use updated packages.\n"
     ]
    }
   ],
   "source": [
    "# 1. Setup\n",
    "%pip install -e .. -q\n",
    "%load_ext autoreload\n",
    "%autoreload 2"
   ]
  },
  {
   "cell_type": "code",
   "execution_count": 4,
   "id": "b9ca21e7",
   "metadata": {},
   "outputs": [],
   "source": [
    "# 2. Load default config\n",
    "from pathlib import Path\n",
    "\n",
    "import pandas as pd\n",
    "\n",
    "from metro_disruptions_intelligence.detect.streaming_iforest import StreamingIForestDetector\n",
    "\n",
    "project_root = Path.cwd().parent\n",
    "\n",
    "config_path = project_root / \"configs\" / \"iforest_default.yaml\""
   ]
  },
  {
   "cell_type": "code",
   "execution_count": null,
   "id": "e54b5985",
   "metadata": {},
   "outputs": [],
   "source": [
    "# 3. Choose processed features root\n",
    "processed_root = Path(\"data/stations_features_time_series/2023/05/01\")\n",
    "processed_root.mkdir(parents=True, exist_ok=True)"
   ]
  },
  {
   "cell_type": "code",
   "execution_count": null,
   "id": "ebdd2fba",
   "metadata": {},
   "outputs": [],
   "source": [
    "# 4. Stream 2 hours of synthetic data\n",
    "import json\n",
    "from datetime import datetime, timedelta\n",
    "\n",
    "import matplotlib.pyplot as plt\n",
    "import numpy as np\n",
    "\n",
    "start = datetime(2023, 5, 1, 0, 0)\n",
    "rows = []\n",
    "det = StreamingIForestDetector(config_path)\n",
    "for i in range(120):\n",
    "    ts = int((start + timedelta(minutes=i)).timestamp())\n",
    "    df = pd.DataFrame({\n",
    "        \"snapshot_timestamp\": [ts],\n",
    "        \"stop_id\": [\"100\"],\n",
    "        \"direction_id\": [0],\n",
    "        \"central_flag\": [1],\n",
    "        \"congestion_level\": [np.random.rand()],\n",
    "        \"occupancy\": [np.random.rand()],\n",
    "        \"node_degree\": [2],\n",
    "        \"hub_flag\": [0],\n",
    "    })\n",
    "    out = det.score_and_update(df, explain=True)\n",
    "    rows.append(out)\n",
    "scores = pd.concat(rows, ignore_index=True)"
   ]
  },
  {
   "cell_type": "code",
   "execution_count": null,
   "id": "3b57b03d",
   "metadata": {},
   "outputs": [],
   "source": [
    "# 5. Histogram of anomaly_score\n",
    "plt.hist(scores[\"anomaly_score\"], bins=20)\n",
    "plt.xlabel(\"score\")\n",
    "plt.ylabel(\"count\");"
   ]
  },
  {
   "cell_type": "code",
   "execution_count": null,
   "id": "c23073ee",
   "metadata": {},
   "outputs": [],
   "source": [
    "# 6. Top-10 anomalies with SHAP explanations\n",
    "top10 = scores.nlargest(10, \"anomaly_score\").copy()\n",
    "top10[\"shap_top3\"] = top10[\"shap_top3_json\"].apply(json.loads)\n",
    "top10[[\"ts\", \"stop_id\", \"anomaly_score\", \"shap_top3\"]]"
   ]
  },
  {
   "cell_type": "code",
   "execution_count": null,
   "id": "7a1bf86e",
   "metadata": {},
   "outputs": [],
   "source": [
    "# 7. Mean anomaly_score over time\n",
    "scores[\"dt\"] = pd.to_datetime(scores[\"ts\"], unit=\"s\")\n",
    "mean_series = scores.groupby(\"dt\")[\"anomaly_score\"].mean()\n",
    "mean_series.plot();"
   ]
  },
  {
   "cell_type": "code",
   "execution_count": null,
   "id": "f27cfac7",
   "metadata": {},
   "outputs": [],
   "source": [
    "# 8. Tune hyper-parameters via CLI\n",
    "!poetry run mdi tune-iforest --processed-root data/stations_features_time_series/2023/05/01 --start 2023-05-01T00:00:00Z --end 2023-05-01T02:00:00Z\n",
    "print(Path(\"iforest_best.yaml\").read_text())"
   ]
  }
 ],
 "metadata": {
  "kernelspec": {
   "display_name": "mdi_env",
   "language": "python",
   "name": "python3"
  },
  "language_info": {
   "codemirror_mode": {
    "name": "ipython",
    "version": 3
   },
   "file_extension": ".py",
   "mimetype": "text/x-python",
   "name": "python",
   "nbconvert_exporter": "python",
   "pygments_lexer": "ipython3",
   "version": "3.10.17"
  }
 },
 "nbformat": 4,
 "nbformat_minor": 5
}
