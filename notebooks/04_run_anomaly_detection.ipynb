{
 "cells": [
  {
   "cell_type": "markdown",
   "id": "ce813621",
   "metadata": {},
   "source": [
    "# Run anomaly detection"
   ]
  },
  {
   "cell_type": "code",
   "execution_count": null,
   "id": "c5525f14",
   "metadata": {},
   "outputs": [],
   "source": [
    "# 1. Setup\n",
    "%pip install -e .. -q\n",
    "%load_ext autoreload\n",
    "%autoreload 2"
   ]
  },
  {
   "cell_type": "code",
   "execution_count": 1,
   "id": "b9ca21e7",
   "metadata": {},
   "outputs": [],
   "source": [
    "# 2. Load default config\n",
    "from pathlib import Path\n",
    "\n",
    "import pandas as pd\n",
    "\n",
    "from metro_disruptions_intelligence.detect.streaming_iforest import StreamingIForestDetector\n",
    "\n",
    "project_root = Path.cwd().parent\n",
    "\n",
    "config_path = project_root / \"configs\" / \"iforest_default.yaml\""
   ]
  },
  {
   "cell_type": "markdown",
   "id": "7fb27b941602401d91542211134fc71a",
   "metadata": {},
   "source": [
    "**Note:** `StreamingIForestDetector` uses a default `subsample_size` of 256.\n",
    "Running it on fewer observations (like the small example below) will\n",
    "yield zero anomaly scores. For small samples you can pass a custom\n",
    "configuration:\n",
    "```python\n",
    "from metro_disruptions_intelligence.detect import IForestConfig\n",
    "det = StreamingIForestDetector(IForestConfig(subsample_size=50))\n",
    "```"
   ]
  },
  {
   "cell_type": "code",
   "execution_count": 2,
   "id": "e54b5985",
   "metadata": {},
   "outputs": [],
   "source": [
    "# 3. Choose processed features root\n",
    "project_root = Path.cwd().parent\n",
    "processed_root = project_root / \"data\" / \"stations_features_time_series\""
   ]
  },
  {
   "cell_type": "code",
   "execution_count": 3,
   "id": "85bb77d8",
   "metadata": {},
   "outputs": [
    {
     "name": "stdout",
     "output_type": "stream",
     "text": [
      "c:\\Users\\Luis.ParraMorales\\GitProjects\\metro_disruptions_intelligence\\data\\stations_features_time_series\n"
     ]
    }
   ],
   "source": [
    "print(processed_root)"
   ]
  },
  {
   "cell_type": "markdown",
   "id": "acae54e37e7d407bbb7b55eff062a284",
   "metadata": {},
   "source": [
    "The features should be stored in `data/stations_features_time_series` as described in the documentation.\n",
    "If this directory is empty you must generate the Parquet files first."
   ]
  },
  {
   "cell_type": "code",
   "execution_count": 7,
   "id": "a7a663fb",
   "metadata": {},
   "outputs": [],
   "source": [
    "# 4a. Train detector on stored feature files and save model\n",
    "from datetime import datetime, timedelta\n",
    "\n",
    "train_start = datetime(2025, 3, 6, 16, 50)\n",
    "train_end = train_start + timedelta(hours=2)\n",
    "det = StreamingIForestDetector(config_path)\n",
    "for ts in range(int(train_start.timestamp()), int(train_end.timestamp()), 60):\n",
    "    dt = datetime.fromtimestamp(ts)\n",
    "    p = (\n",
    "        processed_root\n",
    "        / f\"year={dt.year:04d}\"\n",
    "        / f\"month={dt.month:02d}\"\n",
    "        / f\"day={dt.day:02d}\"\n",
    "        / f\"stations_feats_{dt:%Y-%d-%m-%H-%M}.parquet\"\n",
    "    )\n",
    "    if not p.exists():\n",
    "        continue\n",
    "    df = pd.read_parquet(p)\n",
    "    det.score_and_update(df)\n",
    "det.save(\"iforest_model.pkl\")"
   ]
  },
  {
   "cell_type": "code",
   "execution_count": 8,
   "id": "ebdd2fba",
   "metadata": {},
   "outputs": [],
   "source": [
    "# 4. Stream 2 hours of feature data\n",
    "import json\n",
    "from datetime import datetime, timedelta\n",
    "\n",
    "import matplotlib.pyplot as plt\n",
    "\n",
    "start = datetime(2025, 3, 6, 16, 50)\n",
    "end = start + timedelta(hours=2)\n",
    "rows = []\n",
    "det = StreamingIForestDetector(config_path)\n",
    "for ts in range(int(start.timestamp()), int(end.timestamp()), 60):\n",
    "    dt = datetime.fromtimestamp(ts)\n",
    "    f = (\n",
    "        processed_root\n",
    "        / f\"year={dt.year:04d}\"\n",
    "        / f\"month={dt.month:02d}\"\n",
    "        / f\"day={dt.day:02d}\"\n",
    "        / f\"stations_feats_{dt:%Y-%d-%m-%H-%M}.parquet\"\n",
    "    )\n",
    "    if not f.exists():\n",
    "        continue\n",
    "    df = pd.read_parquet(f)\n",
    "    out = det.score_and_update(df, explain=True)\n",
    "    rows.append(out)\n",
    "scores = pd.concat(rows, ignore_index=True) if rows else pd.DataFrame()"
   ]
  },
  {
   "cell_type": "code",
   "execution_count": 9,
   "id": "3b57b03d",
   "metadata": {},
   "outputs": [
    {
     "data": {
      "image/png": "[encoded data removed]",
      "text/plain": [
       "<Figure size 640x480 with 1 Axes>"
      ]
     },
     "metadata": {},
     "output_type": "display_data"
    }
   ],
   "source": [
    "# 5. Histogram of anomaly_score\n",
    "plt.hist(scores[\"anomaly_score\"], bins=20)\n",
    "plt.xlabel(\"score\")\n",
    "plt.ylabel(\"count\");"
   ]
  },
  {
   "cell_type": "code",
   "execution_count": 10,
   "id": "c23073ee",
   "metadata": {},
   "outputs": [
    {
     "data": {
      "text/html": [
       "<div>\n",
       "<style scoped>\n",
       "    .dataframe tbody tr th:only-of-type {\n",
       "        vertical-align: middle;\n",
       "    }\n",
       "\n",
       "    .dataframe tbody tr th {\n",
       "        vertical-align: top;\n",
       "    }\n",
       "\n",
       "    .dataframe thead th {\n",
       "        text-align: right;\n",
       "    }\n",
       "</style>\n",
       "<table border=\"1\" class=\"dataframe\">\n",
       "  <thead>\n",
       "    <tr style=\"text-align: right;\">\n",
       "      <th></th>\n",
       "      <th>ts</th>\n",
       "      <th>stop_id</th>\n",
       "      <th>anomaly_score</th>\n",
       "      <th>shap_top3</th>\n",
       "    </tr>\n",
       "  </thead>\n",
       "  <tbody>\n",
       "    <tr>\n",
       "      <th>0</th>\n",
       "      <td>1741279800</td>\n",
       "      <td>2000465</td>\n",
       "      <td>0.0</td>\n",
       "      <td>[[arrival_delay_t, 0], [departure_delay_t, 0],...</td>\n",
       "    </tr>\n",
       "    <tr>\n",
       "      <th>1</th>\n",
       "      <td>1741279800</td>\n",
       "      <td>2153403</td>\n",
       "      <td>0.0</td>\n",
       "      <td>[[arrival_delay_t, 0], [departure_delay_t, 0],...</td>\n",
       "    </tr>\n",
       "    <tr>\n",
       "      <th>2</th>\n",
       "      <td>1741279800</td>\n",
       "      <td>2000467</td>\n",
       "      <td>0.0</td>\n",
       "      <td>[[arrival_delay_t, 0], [departure_delay_t, 0],...</td>\n",
       "    </tr>\n",
       "    <tr>\n",
       "      <th>3</th>\n",
       "      <td>1741279800</td>\n",
       "      <td>2000461</td>\n",
       "      <td>0.0</td>\n",
       "      <td>[[arrival_delay_t, 0], [departure_delay_t, 0],...</td>\n",
       "    </tr>\n",
       "    <tr>\n",
       "      <th>4</th>\n",
       "      <td>1741279800</td>\n",
       "      <td>2155266</td>\n",
       "      <td>0.0</td>\n",
       "      <td>[[arrival_delay_t, 0], [departure_delay_t, 0],...</td>\n",
       "    </tr>\n",
       "    <tr>\n",
       "      <th>5</th>\n",
       "      <td>1741279800</td>\n",
       "      <td>2000462</td>\n",
       "      <td>0.0</td>\n",
       "      <td>[[arrival_delay_t, 0], [departure_delay_t, 0],...</td>\n",
       "    </tr>\n",
       "    <tr>\n",
       "      <th>6</th>\n",
       "      <td>1741279800</td>\n",
       "      <td>2017077</td>\n",
       "      <td>0.0</td>\n",
       "      <td>[[arrival_delay_t, 0], [departure_delay_t, 0],...</td>\n",
       "    </tr>\n",
       "    <tr>\n",
       "      <th>7</th>\n",
       "      <td>1741279800</td>\n",
       "      <td>2155268</td>\n",
       "      <td>0.0</td>\n",
       "      <td>[[arrival_delay_t, 0], [departure_delay_t, 0],...</td>\n",
       "    </tr>\n",
       "    <tr>\n",
       "      <th>8</th>\n",
       "      <td>1741279800</td>\n",
       "      <td>2067143</td>\n",
       "      <td>0.0</td>\n",
       "      <td>[[arrival_delay_t, 0], [departure_delay_t, 0],...</td>\n",
       "    </tr>\n",
       "    <tr>\n",
       "      <th>9</th>\n",
       "      <td>1741279800</td>\n",
       "      <td>2000463</td>\n",
       "      <td>0.0</td>\n",
       "      <td>[[arrival_delay_t, 0], [departure_delay_t, 0],...</td>\n",
       "    </tr>\n",
       "  </tbody>\n",
       "</table>\n",
       "</div>"
      ],
      "text/plain": [
       "           ts  stop_id  anomaly_score  \\\n",
       "0  1741279800  2000465            0.0   \n",
       "1  1741279800  2153403            0.0   \n",
       "2  1741279800  2000467            0.0   \n",
       "3  1741279800  2000461            0.0   \n",
       "4  1741279800  2155266            0.0   \n",
       "5  1741279800  2000462            0.0   \n",
       "6  1741279800  2017077            0.0   \n",
       "7  1741279800  2155268            0.0   \n",
       "8  1741279800  2067143            0.0   \n",
       "9  1741279800  2000463            0.0   \n",
       "\n",
       "                                           shap_top3  \n",
       "0  [[arrival_delay_t, 0], [departure_delay_t, 0],...  \n",
       "1  [[arrival_delay_t, 0], [departure_delay_t, 0],...  \n",
       "2  [[arrival_delay_t, 0], [departure_delay_t, 0],...  \n",
       "3  [[arrival_delay_t, 0], [departure_delay_t, 0],...  \n",
       "4  [[arrival_delay_t, 0], [departure_delay_t, 0],...  \n",
       "5  [[arrival_delay_t, 0], [departure_delay_t, 0],...  \n",
       "6  [[arrival_delay_t, 0], [departure_delay_t, 0],...  \n",
       "7  [[arrival_delay_t, 0], [departure_delay_t, 0],...  \n",
       "8  [[arrival_delay_t, 0], [departure_delay_t, 0],...  \n",
       "9  [[arrival_delay_t, 0], [departure_delay_t, 0],...  "
      ]
     },
     "execution_count": 10,
     "metadata": {},
     "output_type": "execute_result"
    }
   ],
   "source": [
    "# 6. Top-10 anomalies with SHAP explanations\n",
    "top10 = scores.nlargest(10, \"anomaly_score\").copy()\n",
    "top10[\"shap_top3\"] = top10[\"shap_top3_json\"].apply(json.loads)\n",
    "top10[[\"ts\", \"stop_id\", \"anomaly_score\", \"shap_top3\"]]"
   ]
  },
  {
   "cell_type": "code",
   "execution_count": 11,
   "id": "7a1bf86e",
   "metadata": {},
   "outputs": [
    {
     "data": {
      "image/png": "[encoded data removed]",
      "text/plain": [
       "<Figure size 640x480 with 1 Axes>"
      ]
     },
     "metadata": {},
     "output_type": "display_data"
    }
   ],
   "source": [
    "# 7. Mean anomaly_score over time\n",
    "scores[\"dt\"] = pd.to_datetime(scores[\"ts\"], unit=\"s\")\n",
    "mean_series = scores.groupby(\"dt\")[\"anomaly_score\"].mean()\n",
    "mean_series.plot();"
   ]
  },
  {
   "cell_type": "code",
   "execution_count": null,
   "id": "f27cfac7",
   "metadata": {},
   "outputs": [],
   "source": [
    "# 8. Tune hyper-parameters via CLI\n",
    "!poetry run mdi tune-iforest \\\n",
    "+        --processed-root data/stations_features_time_series \\\n",
    "+        --start 2023-05-01T00:00:00Z \\\n",
    "+        --end 2023-05-01T02:00:00Z\n",
    "print(Path(\"iforest_best.yaml\").read_text())"
   ]
  }
 ],
 "metadata": {
  "kernelspec": {
   "display_name": "mdi_env",
   "language": "python",
   "name": "python3"
  },
  "language_info": {
   "codemirror_mode": {
    "name": "ipython",
    "version": 3
   },
   "file_extension": ".py",
   "mimetype": "text/x-python",
   "name": "python",
   "nbconvert_exporter": "python",
   "pygments_lexer": "ipython3",
   "version": "3.10.17"
  }
 },
 "nbformat": 4,
 "nbformat_minor": 5
}
