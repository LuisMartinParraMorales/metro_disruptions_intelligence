{
 "cells": [
  {
   "cell_type": "markdown",
   "metadata": {},
   "source": [
    "# ETL Smoke Test"
   ]
  },
  {
   "cell_type": "markdown",
   "id": "3f5eba62",
   "metadata": {},
   "source": [
    "## Running the code in the test files"
   ]
  },
  {
   "cell_type": "code",
   "execution_count": 24,
   "metadata": {},
   "outputs": [],
   "source": [
    "from pathlib import Path\n",
    "import pandas as pd\n",
    "from metro_disruptions_intelligence.etl.static_ingest import ingest_static_gtfs\n",
    "from metro_disruptions_intelligence.etl.ingest_rt import ingest_all_rt, union_all_feeds\n",
    "import matplotlib.pyplot as plt"
   ]
  },
  {
   "cell_type": "code",
   "execution_count": 25,
   "id": "9e669ca8",
   "metadata": {},
   "outputs": [],
   "source": [
    "project_root = Path.cwd()\n",
    "if not (project_root / \"sample_data\").exists():\n",
    "    project_root = project_root.parent"
   ]
  },
  {
   "cell_type": "code",
   "execution_count": 26,
   "id": "f775cfd8",
   "metadata": {},
   "outputs": [],
   "source": [
    "processed = project_root / \"data\" / \"processed\"\n",
    "static_dir = project_root / \"data\" / \"static\"\n",
    "rt_dir = project_root / \"sample_data\" / \"rt\""
   ]
  },
  {
   "cell_type": "code",
   "execution_count": 27,
   "id": "a5a517f7",
   "metadata": {},
   "outputs": [
    {
     "data": {
      "text/plain": [
       "WindowsPath('c:/Users/Luis.ParraMorales/GitProjects/metro_disruptions_intelligence/data/processed/station_event.parquet')"
      ]
     },
     "execution_count": 27,
     "metadata": {},
     "output_type": "execute_result"
    }
   ],
   "source": [
    "static_out = ingest_static_gtfs(static_dir, processed / \"static\")\n",
    "ingest_all_rt(rt_dir, processed / \"rt\")\n",
    "union_all_feeds(processed / \"rt\", processed / \"station_event.parquet\")"
   ]
  },
  {
   "cell_type": "code",
   "execution_count": 28,
   "metadata": {},
   "outputs": [
    {
     "data": {
      "text/html": [
       "<div>\n",
       "<style scoped>\n",
       "    .dataframe tbody tr th:only-of-type {\n",
       "        vertical-align: middle;\n",
       "    }\n",
       "\n",
       "    .dataframe tbody tr th {\n",
       "        vertical-align: top;\n",
       "    }\n",
       "\n",
       "    .dataframe thead th {\n",
       "        text-align: right;\n",
       "    }\n",
       "</style>\n",
       "<table border=\"1\" class=\"dataframe\">\n",
       "  <thead>\n",
       "    <tr style=\"text-align: right;\">\n",
       "      <th></th>\n",
       "      <th>snapshot_timestamp</th>\n",
       "      <th>alert_entity_id</th>\n",
       "      <th>active_period_start</th>\n",
       "      <th>active_period_end</th>\n",
       "      <th>agency_id</th>\n",
       "      <th>route_id</th>\n",
       "      <th>direction_id</th>\n",
       "      <th>cause</th>\n",
       "      <th>effect</th>\n",
       "      <th>header_text</th>\n",
       "      <th>...</th>\n",
       "      <th>arrival_delay</th>\n",
       "      <th>departure_delay</th>\n",
       "      <th>latitude</th>\n",
       "      <th>longitude</th>\n",
       "      <th>bearing</th>\n",
       "      <th>speed</th>\n",
       "      <th>current_stop_sequence</th>\n",
       "      <th>current_status</th>\n",
       "      <th>congestion_level</th>\n",
       "      <th>occupancy_status</th>\n",
       "    </tr>\n",
       "  </thead>\n",
       "  <tbody>\n",
       "    <tr>\n",
       "      <th>0</th>\n",
       "      <td>1743461951</td>\n",
       "      <td>cbd2e2c2-d0e1-5727-950d-99f78d6ffe31</td>\n",
       "      <td>1.743591e+09</td>\n",
       "      <td>1.743606e+09</td>\n",
       "      <td>SMNW</td>\n",
       "      <td>SMNW_M1</td>\n",
       "      <td>1</td>\n",
       "      <td>9</td>\n",
       "      <td>6</td>\n",
       "      <td>Metro services run between Tallawong, Martin P...</td>\n",
       "      <td>...</td>\n",
       "      <td>NaN</td>\n",
       "      <td>NaN</td>\n",
       "      <td>NaN</td>\n",
       "      <td>NaN</td>\n",
       "      <td>NaN</td>\n",
       "      <td>NaN</td>\n",
       "      <td>NaN</td>\n",
       "      <td>None</td>\n",
       "      <td>None</td>\n",
       "      <td>None</td>\n",
       "    </tr>\n",
       "    <tr>\n",
       "      <th>1</th>\n",
       "      <td>1743461951</td>\n",
       "      <td>cbd2e2c2-d0e1-5727-950d-99f78d6ffe31</td>\n",
       "      <td>1.743591e+09</td>\n",
       "      <td>1.743606e+09</td>\n",
       "      <td>SMNW</td>\n",
       "      <td>SMNW_M1</td>\n",
       "      <td>0</td>\n",
       "      <td>9</td>\n",
       "      <td>6</td>\n",
       "      <td>Metro services run between Tallawong, Martin P...</td>\n",
       "      <td>...</td>\n",
       "      <td>NaN</td>\n",
       "      <td>NaN</td>\n",
       "      <td>NaN</td>\n",
       "      <td>NaN</td>\n",
       "      <td>NaN</td>\n",
       "      <td>NaN</td>\n",
       "      <td>NaN</td>\n",
       "      <td>None</td>\n",
       "      <td>None</td>\n",
       "      <td>None</td>\n",
       "    </tr>\n",
       "    <tr>\n",
       "      <th>2</th>\n",
       "      <td>1743461951</td>\n",
       "      <td>3854a373-b4cb-5cd5-a977-a01679b970b7</td>\n",
       "      <td>1.743779e+09</td>\n",
       "      <td>1.743955e+09</td>\n",
       "      <td>SMNW</td>\n",
       "      <td>SMNW_M1</td>\n",
       "      <td>1</td>\n",
       "      <td>9</td>\n",
       "      <td>6</td>\n",
       "      <td>Train trackwork on the T1 North Shore Line and...</td>\n",
       "      <td>...</td>\n",
       "      <td>NaN</td>\n",
       "      <td>NaN</td>\n",
       "      <td>NaN</td>\n",
       "      <td>NaN</td>\n",
       "      <td>NaN</td>\n",
       "      <td>NaN</td>\n",
       "      <td>NaN</td>\n",
       "      <td>None</td>\n",
       "      <td>None</td>\n",
       "      <td>None</td>\n",
       "    </tr>\n",
       "    <tr>\n",
       "      <th>3</th>\n",
       "      <td>1743461951</td>\n",
       "      <td>3854a373-b4cb-5cd5-a977-a01679b970b7</td>\n",
       "      <td>1.743779e+09</td>\n",
       "      <td>1.743955e+09</td>\n",
       "      <td>SMNW</td>\n",
       "      <td>SMNW_M1</td>\n",
       "      <td>0</td>\n",
       "      <td>9</td>\n",
       "      <td>6</td>\n",
       "      <td>Train trackwork on the T1 North Shore Line and...</td>\n",
       "      <td>...</td>\n",
       "      <td>NaN</td>\n",
       "      <td>NaN</td>\n",
       "      <td>NaN</td>\n",
       "      <td>NaN</td>\n",
       "      <td>NaN</td>\n",
       "      <td>NaN</td>\n",
       "      <td>NaN</td>\n",
       "      <td>None</td>\n",
       "      <td>None</td>\n",
       "      <td>None</td>\n",
       "    </tr>\n",
       "    <tr>\n",
       "      <th>4</th>\n",
       "      <td>1743461951</td>\n",
       "      <td>72cf39c4-c201-546a-a926-2708489444cd</td>\n",
       "      <td>1.744027e+09</td>\n",
       "      <td>1.744042e+09</td>\n",
       "      <td>SMNW</td>\n",
       "      <td>SMNW_M1</td>\n",
       "      <td>1</td>\n",
       "      <td>9</td>\n",
       "      <td>6</td>\n",
       "      <td>Metro services run between Tallawong, Martin P...</td>\n",
       "      <td>...</td>\n",
       "      <td>NaN</td>\n",
       "      <td>NaN</td>\n",
       "      <td>NaN</td>\n",
       "      <td>NaN</td>\n",
       "      <td>NaN</td>\n",
       "      <td>NaN</td>\n",
       "      <td>NaN</td>\n",
       "      <td>None</td>\n",
       "      <td>None</td>\n",
       "      <td>None</td>\n",
       "    </tr>\n",
       "  </tbody>\n",
       "</table>\n",
       "<p>5 rows × 34 columns</p>\n",
       "</div>"
      ],
      "text/plain": [
       "   snapshot_timestamp                       alert_entity_id  \\\n",
       "0          1743461951  cbd2e2c2-d0e1-5727-950d-99f78d6ffe31   \n",
       "1          1743461951  cbd2e2c2-d0e1-5727-950d-99f78d6ffe31   \n",
       "2          1743461951  3854a373-b4cb-5cd5-a977-a01679b970b7   \n",
       "3          1743461951  3854a373-b4cb-5cd5-a977-a01679b970b7   \n",
       "4          1743461951  72cf39c4-c201-546a-a926-2708489444cd   \n",
       "\n",
       "   active_period_start  active_period_end agency_id route_id  direction_id  \\\n",
       "0         1.743591e+09       1.743606e+09      SMNW  SMNW_M1             1   \n",
       "1         1.743591e+09       1.743606e+09      SMNW  SMNW_M1             0   \n",
       "2         1.743779e+09       1.743955e+09      SMNW  SMNW_M1             1   \n",
       "3         1.743779e+09       1.743955e+09      SMNW  SMNW_M1             0   \n",
       "4         1.744027e+09       1.744042e+09      SMNW  SMNW_M1             1   \n",
       "\n",
       "  cause effect                                        header_text  ...  \\\n",
       "0     9      6  Metro services run between Tallawong, Martin P...  ...   \n",
       "1     9      6  Metro services run between Tallawong, Martin P...  ...   \n",
       "2     9      6  Train trackwork on the T1 North Shore Line and...  ...   \n",
       "3     9      6  Train trackwork on the T1 North Shore Line and...  ...   \n",
       "4     9      6  Metro services run between Tallawong, Martin P...  ...   \n",
       "\n",
       "  arrival_delay departure_delay  latitude  longitude  bearing speed  \\\n",
       "0           NaN             NaN       NaN        NaN      NaN   NaN   \n",
       "1           NaN             NaN       NaN        NaN      NaN   NaN   \n",
       "2           NaN             NaN       NaN        NaN      NaN   NaN   \n",
       "3           NaN             NaN       NaN        NaN      NaN   NaN   \n",
       "4           NaN             NaN       NaN        NaN      NaN   NaN   \n",
       "\n",
       "  current_stop_sequence current_status congestion_level occupancy_status  \n",
       "0                   NaN           None             None             None  \n",
       "1                   NaN           None             None             None  \n",
       "2                   NaN           None             None             None  \n",
       "3                   NaN           None             None             None  \n",
       "4                   NaN           None             None             None  \n",
       "\n",
       "[5 rows x 34 columns]"
      ]
     },
     "execution_count": 28,
     "metadata": {},
     "output_type": "execute_result"
    }
   ],
   "source": [
    "df = pd.read_parquet(processed / \"station_event.parquet\")\n",
    "df.head()"
   ]
  },
  {
   "cell_type": "code",
   "execution_count": 29,
   "metadata": {},
   "outputs": [
    {
     "data": {
      "text/plain": [
       "feed_type\n",
       "trip_updates         1356\n",
       "vehicle_positions      27\n",
       "alerts                 12\n",
       "Name: count, dtype: int64"
      ]
     },
     "execution_count": 29,
     "metadata": {},
     "output_type": "execute_result"
    }
   ],
   "source": [
    "df['feed_type'].value_counts()"
   ]
  },
  {
   "cell_type": "code",
   "execution_count": 30,
   "id": "8e7ac510",
   "metadata": {},
   "outputs": [
    {
     "name": "stdout",
     "output_type": "stream",
     "text": [
      "<class 'pandas.core.frame.DataFrame'>\n",
      "RangeIndex: 1395 entries, 0 to 1394\n",
      "Data columns (total 34 columns):\n",
      " #   Column                 Non-Null Count  Dtype  \n",
      "---  ------                 --------------  -----  \n",
      " 0   snapshot_timestamp     1395 non-null   int64  \n",
      " 1   alert_entity_id        12 non-null     object \n",
      " 2   active_period_start    12 non-null     float64\n",
      " 3   active_period_end      12 non-null     float64\n",
      " 4   agency_id              12 non-null     object \n",
      " 5   route_id               1395 non-null   object \n",
      " 6   direction_id           1395 non-null   int64  \n",
      " 7   cause                  12 non-null     object \n",
      " 8   effect                 12 non-null     object \n",
      " 9   header_text            12 non-null     object \n",
      " 10  description_text       12 non-null     object \n",
      " 11  url                    12 non-null     object \n",
      " 12  year                   1395 non-null   int64  \n",
      " 13  month                  1395 non-null   int64  \n",
      " 14  day                    1395 non-null   int64  \n",
      " 15  feed_type              1395 non-null   object \n",
      " 16  trip_id                1383 non-null   object \n",
      " 17  start_time             1356 non-null   object \n",
      " 18  start_date             1356 non-null   object \n",
      " 19  vehicle_id             1383 non-null   object \n",
      " 20  stop_sequence          1356 non-null   float64\n",
      " 21  stop_id                1383 non-null   object \n",
      " 22  arrival_time           1293 non-null   float64\n",
      " 23  departure_time         1290 non-null   float64\n",
      " 24  arrival_delay          1293 non-null   float64\n",
      " 25  departure_delay        1290 non-null   float64\n",
      " 26  latitude               27 non-null     float64\n",
      " 27  longitude              27 non-null     float64\n",
      " 28  bearing                27 non-null     float64\n",
      " 29  speed                  27 non-null     float64\n",
      " 30  current_stop_sequence  27 non-null     float64\n",
      " 31  current_status         27 non-null     object \n",
      " 32  congestion_level       27 non-null     object \n",
      " 33  occupancy_status       27 non-null     object \n",
      "dtypes: float64(12), int64(5), object(17)\n",
      "memory usage: 370.7+ KB\n"
     ]
    }
   ],
   "source": [
    "df.info()"
   ]
  },
  {
   "cell_type": "code",
   "execution_count": 31,
   "id": "881c3e3d",
   "metadata": {},
   "outputs": [
    {
     "data": {
      "text/plain": [
       "Index(['snapshot_timestamp', 'alert_entity_id', 'active_period_start',\n",
       "       'active_period_end', 'agency_id', 'route_id', 'direction_id', 'cause',\n",
       "       'effect', 'header_text', 'description_text', 'url', 'year', 'month',\n",
       "       'day', 'feed_type', 'trip_id', 'start_time', 'start_date', 'vehicle_id',\n",
       "       'stop_sequence', 'stop_id', 'arrival_time', 'departure_time',\n",
       "       'arrival_delay', 'departure_delay', 'latitude', 'longitude', 'bearing',\n",
       "       'speed', 'current_stop_sequence', 'current_status', 'congestion_level',\n",
       "       'occupancy_status'],\n",
       "      dtype='object')"
      ]
     },
     "execution_count": 31,
     "metadata": {},
     "output_type": "execute_result"
    }
   ],
   "source": [
    "df.columns"
   ]
  },
  {
   "cell_type": "markdown",
   "id": "2175e91e",
   "metadata": {},
   "source": [
    "## Sanity checks and exploration"
   ]
  },
  {
   "cell_type": "markdown",
   "id": "d03cdd8c",
   "metadata": {},
   "source": [
    "### Basic Snaity Checks"
   ]
  },
  {
   "cell_type": "code",
   "execution_count": 32,
   "id": "fa908fa0",
   "metadata": {},
   "outputs": [
    {
     "name": "stdout",
     "output_type": "stream",
     "text": [
      "c:\\Users\\Luis.ParraMorales\\GitProjects\\metro_disruptions_intelligence\n"
     ]
    }
   ],
   "source": [
    "print(project_root)"
   ]
  },
  {
   "cell_type": "code",
   "execution_count": 33,
   "id": "5d2941c6",
   "metadata": {},
   "outputs": [],
   "source": [
    "processed = project_root / \"data\" / \"processed\"\n",
    "static_df = pd.read_parquet(processed / \"static\" / \"station_schedule.parquet\")\n",
    "rt_df = pd.read_parquet(processed / \"station_event.parquet\")"
   ]
  },
  {
   "cell_type": "code",
   "execution_count": 34,
   "id": "f1d54fc4",
   "metadata": {},
   "outputs": [
    {
     "data": {
      "text/plain": [
       "Index(['trip_id', 'service_id', 'route_id', 'stop_id', 'sched_arr',\n",
       "       'sched_dep', 'stop_sequence'],\n",
       "      dtype='object')"
      ]
     },
     "execution_count": 34,
     "metadata": {},
     "output_type": "execute_result"
    }
   ],
   "source": [
    "static_df.columns"
   ]
  },
  {
   "cell_type": "code",
   "execution_count": 35,
   "id": "2f3be74e",
   "metadata": {},
   "outputs": [
    {
     "data": {
      "text/html": [
       "<div>\n",
       "<style scoped>\n",
       "    .dataframe tbody tr th:only-of-type {\n",
       "        vertical-align: middle;\n",
       "    }\n",
       "\n",
       "    .dataframe tbody tr th {\n",
       "        vertical-align: top;\n",
       "    }\n",
       "\n",
       "    .dataframe thead th {\n",
       "        text-align: right;\n",
       "    }\n",
       "</style>\n",
       "<table border=\"1\" class=\"dataframe\">\n",
       "  <thead>\n",
       "    <tr style=\"text-align: right;\">\n",
       "      <th></th>\n",
       "      <th>trip_id</th>\n",
       "      <th>service_id</th>\n",
       "      <th>route_id</th>\n",
       "      <th>stop_id</th>\n",
       "      <th>sched_arr</th>\n",
       "      <th>sched_dep</th>\n",
       "      <th>stop_sequence</th>\n",
       "    </tr>\n",
       "  </thead>\n",
       "  <tbody>\n",
       "    <tr>\n",
       "      <th>0</th>\n",
       "      <td>1.AA51.1-SC0-1-sj2-3.1.R</td>\n",
       "      <td>AA51+1</td>\n",
       "      <td>1-SC0-1-sj2-3</td>\n",
       "      <td>254111</td>\n",
       "      <td>82200</td>\n",
       "      <td>82200</td>\n",
       "      <td>1</td>\n",
       "    </tr>\n",
       "    <tr>\n",
       "      <th>1</th>\n",
       "      <td>1.AA51.1-SC0-1-sj2-3.1.R</td>\n",
       "      <td>AA51+1</td>\n",
       "      <td>1-SC0-1-sj2-3</td>\n",
       "      <td>253572</td>\n",
       "      <td>83040</td>\n",
       "      <td>83040</td>\n",
       "      <td>2</td>\n",
       "    </tr>\n",
       "    <tr>\n",
       "      <th>2</th>\n",
       "      <td>1.AA51.1-SC0-1-sj2-3.1.R</td>\n",
       "      <td>AA51+1</td>\n",
       "      <td>1-SC0-1-sj2-3</td>\n",
       "      <td>253476</td>\n",
       "      <td>84000</td>\n",
       "      <td>84000</td>\n",
       "      <td>3</td>\n",
       "    </tr>\n",
       "    <tr>\n",
       "      <th>3</th>\n",
       "      <td>1.AA51.1-SC0-1-sj2-3.1.R</td>\n",
       "      <td>AA51+1</td>\n",
       "      <td>1-SC0-1-sj2-3</td>\n",
       "      <td>253332</td>\n",
       "      <td>84600</td>\n",
       "      <td>84600</td>\n",
       "      <td>4</td>\n",
       "    </tr>\n",
       "    <tr>\n",
       "      <th>4</th>\n",
       "      <td>1.AA56.1-16S-C-sj2-1.2.R</td>\n",
       "      <td>AA56+1</td>\n",
       "      <td>1-16S-C-sj2-1</td>\n",
       "      <td>251593</td>\n",
       "      <td>13680</td>\n",
       "      <td>13680</td>\n",
       "      <td>1</td>\n",
       "    </tr>\n",
       "  </tbody>\n",
       "</table>\n",
       "</div>"
      ],
      "text/plain": [
       "                    trip_id service_id       route_id stop_id  sched_arr  \\\n",
       "0  1.AA51.1-SC0-1-sj2-3.1.R     AA51+1  1-SC0-1-sj2-3  254111      82200   \n",
       "1  1.AA51.1-SC0-1-sj2-3.1.R     AA51+1  1-SC0-1-sj2-3  253572      83040   \n",
       "2  1.AA51.1-SC0-1-sj2-3.1.R     AA51+1  1-SC0-1-sj2-3  253476      84000   \n",
       "3  1.AA51.1-SC0-1-sj2-3.1.R     AA51+1  1-SC0-1-sj2-3  253332      84600   \n",
       "4  1.AA56.1-16S-C-sj2-1.2.R     AA56+1  1-16S-C-sj2-1  251593      13680   \n",
       "\n",
       "   sched_dep  stop_sequence  \n",
       "0      82200              1  \n",
       "1      83040              2  \n",
       "2      84000              3  \n",
       "3      84600              4  \n",
       "4      13680              1  "
      ]
     },
     "execution_count": 35,
     "metadata": {},
     "output_type": "execute_result"
    }
   ],
   "source": [
    "static_df.head()"
   ]
  },
  {
   "cell_type": "code",
   "execution_count": 36,
   "id": "f32a9981",
   "metadata": {},
   "outputs": [
    {
     "name": "stdout",
     "output_type": "stream",
     "text": [
      "feed_type\n",
      "trip_updates         1356\n",
      "vehicle_positions      27\n",
      "alerts                 12\n",
      "Name: count, dtype: int64\n"
     ]
    }
   ],
   "source": [
    "print(rt_df.feed_type.value_counts())"
   ]
  },
  {
   "cell_type": "code",
   "execution_count": 37,
   "id": "fe0633d9",
   "metadata": {},
   "outputs": [
    {
     "name": "stdout",
     "output_type": "stream",
     "text": [
      "1743461951 1743461997\n"
     ]
    }
   ],
   "source": [
    "print(rt_df.snapshot_timestamp.min(), rt_df.snapshot_timestamp.max())"
   ]
  },
  {
   "cell_type": "markdown",
   "id": "bff8c3b2",
   "metadata": {},
   "source": [
    "### Verify trip updates against static schedule"
   ]
  },
  {
   "cell_type": "code",
   "execution_count": 38,
   "id": "af07e211",
   "metadata": {},
   "outputs": [],
   "source": [
    "tu = rt_df[rt_df.feed_type == \"trip_updates\"].copy()\n",
    "\n",
    "# ensure same type for merge columns\n",
    "tu[\"stop_id\"] = tu[\"stop_id\"].astype(str)\n",
    "static_df[\"stop_id\"] = static_df[\"stop_id\"].astype(str)\n",
    "\n",
    "merged = tu.merge(\n",
    "    static_df,\n",
    "    on=[\"trip_id\", \"stop_id\", \"stop_sequence\"],\n",
    "    how=\"left\",\n",
    "    suffixes=(\"\", \"_sched\"),\n",
    ")\n"
   ]
  },
  {
   "cell_type": "code",
   "execution_count": 39,
   "id": "ded05ce8",
   "metadata": {},
   "outputs": [
    {
     "name": "stdout",
     "output_type": "stream",
     "text": [
      "<class 'pandas.core.frame.DataFrame'>\n",
      "RangeIndex: 1356 entries, 0 to 1355\n",
      "Data columns (total 38 columns):\n",
      " #   Column                 Non-Null Count  Dtype  \n",
      "---  ------                 --------------  -----  \n",
      " 0   snapshot_timestamp     1356 non-null   int64  \n",
      " 1   alert_entity_id        0 non-null      object \n",
      " 2   active_period_start    0 non-null      float64\n",
      " 3   active_period_end      0 non-null      float64\n",
      " 4   agency_id              0 non-null      object \n",
      " 5   route_id               1356 non-null   object \n",
      " 6   direction_id           1356 non-null   int64  \n",
      " 7   cause                  0 non-null      object \n",
      " 8   effect                 0 non-null      object \n",
      " 9   header_text            0 non-null      object \n",
      " 10  description_text       0 non-null      object \n",
      " 11  url                    0 non-null      object \n",
      " 12  year                   1356 non-null   int64  \n",
      " 13  month                  1356 non-null   int64  \n",
      " 14  day                    1356 non-null   int64  \n",
      " 15  feed_type              1356 non-null   object \n",
      " 16  trip_id                1356 non-null   object \n",
      " 17  start_time             1356 non-null   object \n",
      " 18  start_date             1356 non-null   object \n",
      " 19  vehicle_id             1356 non-null   object \n",
      " 20  stop_sequence          1356 non-null   float64\n",
      " 21  stop_id                1356 non-null   object \n",
      " 22  arrival_time           1293 non-null   float64\n",
      " 23  departure_time         1290 non-null   float64\n",
      " 24  arrival_delay          1293 non-null   float64\n",
      " 25  departure_delay        1290 non-null   float64\n",
      " 26  latitude               0 non-null      float64\n",
      " 27  longitude              0 non-null      float64\n",
      " 28  bearing                0 non-null      float64\n",
      " 29  speed                  0 non-null      float64\n",
      " 30  current_stop_sequence  0 non-null      float64\n",
      " 31  current_status         0 non-null      object \n",
      " 32  congestion_level       0 non-null      object \n",
      " 33  occupancy_status       0 non-null      object \n",
      " 34  service_id             0 non-null      object \n",
      " 35  route_id_sched         0 non-null      object \n",
      " 36  sched_arr              0 non-null      float64\n",
      " 37  sched_dep              0 non-null      float64\n",
      "dtypes: float64(14), int64(5), object(19)\n",
      "memory usage: 402.7+ KB\n",
      "None\n"
     ]
    }
   ],
   "source": [
    "print(merged.info())"
   ]
  },
  {
   "cell_type": "code",
   "execution_count": 40,
   "id": "6d543be9",
   "metadata": {},
   "outputs": [
    {
     "name": "stdout",
     "output_type": "stream",
     "text": [
      "count    0.0\n",
      "mean     NaN\n",
      "std      NaN\n",
      "min      NaN\n",
      "25%      NaN\n",
      "50%      NaN\n",
      "75%      NaN\n",
      "max      NaN\n",
      "Name: arrival_diff, dtype: float64\n"
     ]
    }
   ],
   "source": [
    "# Calculate arrival difference from scheduled arrival\n",
    "merged[\"arrival_diff\"] = merged[\"arrival_time\"] - merged[\"sched_arr\"]\n",
    "print(merged[\"arrival_diff\"].describe())"
   ]
  },
  {
   "cell_type": "code",
   "execution_count": 41,
   "id": "7a079274",
   "metadata": {},
   "outputs": [
    {
     "data": {
      "text/plain": [
       "<Axes: title={'center': 'Arrival delay (seconds)'}, ylabel='Frequency'>"
      ]
     },
     "execution_count": 41,
     "metadata": {},
     "output_type": "execute_result"
    },
    {
     "data": {
      "image/png": "[encoded data removed]",
      "text/plain": [
       "<Figure size 640x480 with 1 Axes>"
      ]
     },
     "metadata": {},
     "output_type": "display_data"
    }
   ],
   "source": [
    "# Plot arrival delay distribution\n",
    "merged[\"arrival_diff\"].plot.hist(bins=20, title=\"Arrival delay (seconds)\")"
   ]
  },
  {
   "cell_type": "code",
   "execution_count": null,
   "id": "0dbcb020",
   "metadata": {},
   "outputs": [],
   "source": []
  }
 ],
 "metadata": {
  "kernelspec": {
   "display_name": "mdi_env",
   "language": "python",
   "name": "python3"
  },
  "language_info": {
   "codemirror_mode": {
    "name": "ipython",
    "version": 3
   },
   "file_extension": ".py",
   "mimetype": "text/x-python",
   "name": "python",
   "nbconvert_exporter": "python",
   "pygments_lexer": "ipython3",
   "version": "3.10.17"
  }
 },
 "nbformat": 4,
 "nbformat_minor": 5
}
