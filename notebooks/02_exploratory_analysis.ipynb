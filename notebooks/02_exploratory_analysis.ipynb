{
 "cells": [
  {
   "cell_type": "markdown",
   "id": "2d9bafd3",
   "metadata": {},
   "source": [
    "# Exploratory Data Analysis"
   ]
  },
  {
   "cell_type": "markdown",
   "id": "c9683508",
   "metadata": {},
   "source": [
    "This notebook demonstrates how to load all processed real-time GTFS files and perform a basic exploratory analysis."
   ]
  },
  {
   "cell_type": "code",
   "execution_count": 1,
   "id": "6de66aaf",
   "metadata": {},
   "outputs": [],
   "source": [
    "from pathlib import Path\n",
    "\n",
    "import pandas as pd\n",
    "\n",
    "from metro_disruptions_intelligence.processed_reader import load_rt_dataset"
   ]
  },
  {
   "cell_type": "code",
   "execution_count": 2,
   "id": "ea2d273f",
   "metadata": {},
   "outputs": [],
   "source": [
    "project_root = Path.cwd()\n",
    "if not (project_root / \"data\").exists():\n",
    "    project_root = project_root.parent\n",
    "processed_rt = project_root / \"data\" / \"processed_final\" / \"rt\""
   ]
  },
  {
   "cell_type": "code",
   "execution_count": 3,
   "id": "0360f9ff",
   "metadata": {},
   "outputs": [
    {
     "name": "stdout",
     "output_type": "stream",
     "text": [
      "c:\\Users\\Luis.ParraMorales\\GitProjects\\metro_disruptions_intelligence\\data\\processed_final\\rt\n"
     ]
    }
   ],
   "source": [
    "print(processed_rt)"
   ]
  },
  {
   "cell_type": "code",
   "execution_count": null,
   "id": "ff655d55",
   "metadata": {},
   "outputs": [
    {
     "name": "stderr",
     "output_type": "stream",
     "text": [
      "C:\\Users\\Luis.ParraMorales\\GitProjects\\metro_disruptions_intelligence\\src\\metro_disruptions_intelligence\\processed_reader.py:49: FutureWarning: The behavior of DataFrame concatenation with empty or all-NA entries is deprecated. In a future version, this will no longer exclude empty or all-NA columns when determining the result dtypes. To retain the old behavior, exclude the relevant entries before the concat operation.\n",
      "  df = pd.concat([pd.read_parquet(f) for f in files], ignore_index=True)\n"
     ]
    },
    {
     "data": {
      "text/html": [
       "<div>\n",
       "<style scoped>\n",
       "    .dataframe tbody tr th:only-of-type {\n",
       "        vertical-align: middle;\n",
       "    }\n",
       "\n",
       "    .dataframe tbody tr th {\n",
       "        vertical-align: top;\n",
       "    }\n",
       "\n",
       "    .dataframe thead th {\n",
       "        text-align: right;\n",
       "    }\n",
       "</style>\n",
       "<table border=\"1\" class=\"dataframe\">\n",
       "  <thead>\n",
       "    <tr style=\"text-align: right;\">\n",
       "      <th></th>\n",
       "      <th>snapshot_timestamp</th>\n",
       "      <th>alert_entity_id</th>\n",
       "      <th>active_period_start</th>\n",
       "      <th>active_period_end</th>\n",
       "      <th>agency_id</th>\n",
       "      <th>route_id</th>\n",
       "      <th>direction_id</th>\n",
       "      <th>cause</th>\n",
       "      <th>effect</th>\n",
       "      <th>header_text</th>\n",
       "      <th>...</th>\n",
       "      <th>arrival_delay</th>\n",
       "      <th>departure_delay</th>\n",
       "      <th>latitude</th>\n",
       "      <th>longitude</th>\n",
       "      <th>bearing</th>\n",
       "      <th>speed</th>\n",
       "      <th>current_stop_sequence</th>\n",
       "      <th>current_status</th>\n",
       "      <th>congestion_level</th>\n",
       "      <th>occupancy_status</th>\n",
       "    </tr>\n",
       "  </thead>\n",
       "  <tbody>\n",
       "    <tr>\n",
       "      <th>0</th>\n",
       "      <td>1741277966</td>\n",
       "      <td>a2eb7e5f-419b-5736-b012-17f03aebc060</td>\n",
       "      <td>1.742209e+09</td>\n",
       "      <td>1.742224e+09</td>\n",
       "      <td>SMNW</td>\n",
       "      <td>SMNW_M1</td>\n",
       "      <td>1</td>\n",
       "      <td>9</td>\n",
       "      <td>6</td>\n",
       "      <td>Metro services do not run between Central and ...</td>\n",
       "      <td>...</td>\n",
       "      <td>NaN</td>\n",
       "      <td>NaN</td>\n",
       "      <td>NaN</td>\n",
       "      <td>NaN</td>\n",
       "      <td>NaN</td>\n",
       "      <td>NaN</td>\n",
       "      <td>NaN</td>\n",
       "      <td>NaN</td>\n",
       "      <td>NaN</td>\n",
       "      <td>NaN</td>\n",
       "    </tr>\n",
       "    <tr>\n",
       "      <th>1</th>\n",
       "      <td>1741277966</td>\n",
       "      <td>a2eb7e5f-419b-5736-b012-17f03aebc060</td>\n",
       "      <td>1.742209e+09</td>\n",
       "      <td>1.742224e+09</td>\n",
       "      <td>SMNW</td>\n",
       "      <td>SMNW_M1</td>\n",
       "      <td>0</td>\n",
       "      <td>9</td>\n",
       "      <td>6</td>\n",
       "      <td>Metro services do not run between Central and ...</td>\n",
       "      <td>...</td>\n",
       "      <td>NaN</td>\n",
       "      <td>NaN</td>\n",
       "      <td>NaN</td>\n",
       "      <td>NaN</td>\n",
       "      <td>NaN</td>\n",
       "      <td>NaN</td>\n",
       "      <td>NaN</td>\n",
       "      <td>NaN</td>\n",
       "      <td>NaN</td>\n",
       "      <td>NaN</td>\n",
       "    </tr>\n",
       "    <tr>\n",
       "      <th>2</th>\n",
       "      <td>1741277966</td>\n",
       "      <td>a2eb7e5f-419b-5736-b012-17f03aebc060</td>\n",
       "      <td>1.742295e+09</td>\n",
       "      <td>1.742310e+09</td>\n",
       "      <td>SMNW</td>\n",
       "      <td>SMNW_M1</td>\n",
       "      <td>1</td>\n",
       "      <td>9</td>\n",
       "      <td>6</td>\n",
       "      <td>Metro services do not run between Central and ...</td>\n",
       "      <td>...</td>\n",
       "      <td>NaN</td>\n",
       "      <td>NaN</td>\n",
       "      <td>NaN</td>\n",
       "      <td>NaN</td>\n",
       "      <td>NaN</td>\n",
       "      <td>NaN</td>\n",
       "      <td>NaN</td>\n",
       "      <td>NaN</td>\n",
       "      <td>NaN</td>\n",
       "      <td>NaN</td>\n",
       "    </tr>\n",
       "    <tr>\n",
       "      <th>3</th>\n",
       "      <td>1741277966</td>\n",
       "      <td>a2eb7e5f-419b-5736-b012-17f03aebc060</td>\n",
       "      <td>1.742295e+09</td>\n",
       "      <td>1.742310e+09</td>\n",
       "      <td>SMNW</td>\n",
       "      <td>SMNW_M1</td>\n",
       "      <td>0</td>\n",
       "      <td>9</td>\n",
       "      <td>6</td>\n",
       "      <td>Metro services do not run between Central and ...</td>\n",
       "      <td>...</td>\n",
       "      <td>NaN</td>\n",
       "      <td>NaN</td>\n",
       "      <td>NaN</td>\n",
       "      <td>NaN</td>\n",
       "      <td>NaN</td>\n",
       "      <td>NaN</td>\n",
       "      <td>NaN</td>\n",
       "      <td>NaN</td>\n",
       "      <td>NaN</td>\n",
       "      <td>NaN</td>\n",
       "    </tr>\n",
       "    <tr>\n",
       "      <th>4</th>\n",
       "      <td>1741277966</td>\n",
       "      <td>a2eb7e5f-419b-5736-b012-17f03aebc060</td>\n",
       "      <td>1.742381e+09</td>\n",
       "      <td>1.742396e+09</td>\n",
       "      <td>SMNW</td>\n",
       "      <td>SMNW_M1</td>\n",
       "      <td>1</td>\n",
       "      <td>9</td>\n",
       "      <td>6</td>\n",
       "      <td>Metro services do not run between Central and ...</td>\n",
       "      <td>...</td>\n",
       "      <td>NaN</td>\n",
       "      <td>NaN</td>\n",
       "      <td>NaN</td>\n",
       "      <td>NaN</td>\n",
       "      <td>NaN</td>\n",
       "      <td>NaN</td>\n",
       "      <td>NaN</td>\n",
       "      <td>NaN</td>\n",
       "      <td>NaN</td>\n",
       "      <td>NaN</td>\n",
       "    </tr>\n",
       "  </tbody>\n",
       "</table>\n",
       "<p>5 rows × 34 columns</p>\n",
       "</div>"
      ],
      "text/plain": [
       "   snapshot_timestamp                       alert_entity_id  \\\n",
       "0          1741277966  a2eb7e5f-419b-5736-b012-17f03aebc060   \n",
       "1          1741277966  a2eb7e5f-419b-5736-b012-17f03aebc060   \n",
       "2          1741277966  a2eb7e5f-419b-5736-b012-17f03aebc060   \n",
       "3          1741277966  a2eb7e5f-419b-5736-b012-17f03aebc060   \n",
       "4          1741277966  a2eb7e5f-419b-5736-b012-17f03aebc060   \n",
       "\n",
       "   active_period_start  active_period_end agency_id route_id  direction_id  \\\n",
       "0         1.742209e+09       1.742224e+09      SMNW  SMNW_M1             1   \n",
       "1         1.742209e+09       1.742224e+09      SMNW  SMNW_M1             0   \n",
       "2         1.742295e+09       1.742310e+09      SMNW  SMNW_M1             1   \n",
       "3         1.742295e+09       1.742310e+09      SMNW  SMNW_M1             0   \n",
       "4         1.742381e+09       1.742396e+09      SMNW  SMNW_M1             1   \n",
       "\n",
       "  cause effect                                        header_text  ...  \\\n",
       "0     9      6  Metro services do not run between Central and ...  ...   \n",
       "1     9      6  Metro services do not run between Central and ...  ...   \n",
       "2     9      6  Metro services do not run between Central and ...  ...   \n",
       "3     9      6  Metro services do not run between Central and ...  ...   \n",
       "4     9      6  Metro services do not run between Central and ...  ...   \n",
       "\n",
       "  arrival_delay departure_delay  latitude  longitude  bearing speed  \\\n",
       "0           NaN             NaN       NaN        NaN      NaN   NaN   \n",
       "1           NaN             NaN       NaN        NaN      NaN   NaN   \n",
       "2           NaN             NaN       NaN        NaN      NaN   NaN   \n",
       "3           NaN             NaN       NaN        NaN      NaN   NaN   \n",
       "4           NaN             NaN       NaN        NaN      NaN   NaN   \n",
       "\n",
       "  current_stop_sequence current_status congestion_level occupancy_status  \n",
       "0                   NaN            NaN              NaN              NaN  \n",
       "1                   NaN            NaN              NaN              NaN  \n",
       "2                   NaN            NaN              NaN              NaN  \n",
       "3                   NaN            NaN              NaN              NaN  \n",
       "4                   NaN            NaN              NaN              NaN  \n",
       "\n",
       "[5 rows x 34 columns]"
      ]
     },
     "execution_count": 8,
     "metadata": {},
     "output_type": "execute_result"
    }
   ],
   "source": [
    "df = load_rt_dataset(processed_root = processed_rt, output_file =  processed_rt / \"all_feeds.parquet\")\n",
    "df.head()"
   ]
  },
  {
   "cell_type": "code",
   "execution_count": 9,
   "id": "4439475b",
   "metadata": {},
   "outputs": [
    {
     "data": {
      "text/plain": [
       "feed_type\n",
       "trip_updates         87989792\n",
       "alerts                3213800\n",
       "vehicle_positions     1662564\n",
       "Name: count, dtype: int64"
      ]
     },
     "execution_count": 9,
     "metadata": {},
     "output_type": "execute_result"
    }
   ],
   "source": [
    "df[\"feed_type\"].value_counts()"
   ]
  },
  {
   "cell_type": "code",
   "execution_count": 14,
   "id": "d8fc4e77",
   "metadata": {},
   "outputs": [
    {
     "name": "stdout",
     "output_type": "stream",
     "text": [
      "Index(['snapshot_timestamp', 'alert_entity_id', 'active_period_start',\n",
      "       'active_period_end', 'agency_id', 'route_id', 'direction_id', 'cause',\n",
      "       'effect', 'header_text', 'description_text', 'url', 'year', 'month',\n",
      "       'day', 'feed_type', 'trip_id', 'start_time', 'start_date', 'vehicle_id',\n",
      "       'stop_sequence', 'stop_id', 'arrival_time', 'departure_time',\n",
      "       'arrival_delay', 'departure_delay', 'latitude', 'longitude', 'bearing',\n",
      "       'speed', 'current_stop_sequence', 'current_status', 'congestion_level',\n",
      "       'occupancy_status'],\n",
      "      dtype='object')\n"
     ]
    }
   ],
   "source": [
    "print(df.columns)"
   ]
  },
  {
   "cell_type": "code",
   "execution_count": 15,
   "id": "805f5c0f",
   "metadata": {},
   "outputs": [
    {
     "name": "stdout",
     "output_type": "stream",
     "text": [
      "<class 'pandas.core.frame.DataFrame'>\n",
      "RangeIndex: 92866156 entries, 0 to 92866155\n",
      "Data columns (total 34 columns):\n",
      " #   Column                 Dtype  \n",
      "---  ------                 -----  \n",
      " 0   snapshot_timestamp     int64  \n",
      " 1   alert_entity_id        object \n",
      " 2   active_period_start    float64\n",
      " 3   active_period_end      float64\n",
      " 4   agency_id              object \n",
      " 5   route_id               object \n",
      " 6   direction_id           int64  \n",
      " 7   cause                  object \n",
      " 8   effect                 object \n",
      " 9   header_text            object \n",
      " 10  description_text       object \n",
      " 11  url                    object \n",
      " 12  year                   int64  \n",
      " 13  month                  int64  \n",
      " 14  day                    int64  \n",
      " 15  feed_type              object \n",
      " 16  trip_id                object \n",
      " 17  start_time             object \n",
      " 18  start_date             object \n",
      " 19  vehicle_id             object \n",
      " 20  stop_sequence          float64\n",
      " 21  stop_id                object \n",
      " 22  arrival_time           float64\n",
      " 23  departure_time         float64\n",
      " 24  arrival_delay          float64\n",
      " 25  departure_delay        float64\n",
      " 26  latitude               float64\n",
      " 27  longitude              float64\n",
      " 28  bearing                float64\n",
      " 29  speed                  float64\n",
      " 30  current_stop_sequence  float64\n",
      " 31  current_status         object \n",
      " 32  congestion_level       object \n",
      " 33  occupancy_status       object \n",
      "dtypes: float64(12), int64(5), object(17)\n",
      "memory usage: 23.5+ GB\n"
     ]
    }
   ],
   "source": [
    "df.info()"
   ]
  },
  {
   "cell_type": "markdown",
   "id": "c728f84a",
   "metadata": {},
   "source": [
    "### Exploring missing columns on parquets"
   ]
  },
  {
   "cell_type": "code",
   "execution_count": null,
   "id": "0d12b363",
   "metadata": {},
   "outputs": [],
   "source": [
    "from pathlib import Path\n",
    "import pyarrow.parquet as pq\n",
    "from metro_disruptions_intelligence.processed_reader import (\n",
    "    compose_path,\n",
    "    discover_all_snapshot_minutes,\n",
    ")\n",
    "\n",
    "# processed_rt should already point to your processed realtime directory\n",
    "# processed_rt = project_root / \"data\" / \"processed_final\" / \"rt\"\n",
    "\n",
    "minutes = discover_all_snapshot_minutes(processed_rt)\n",
    "missing = {feed: [] for feed in [\"alerts\", \"trip_updates\", \"vehicle_positions\"]}\n",
    "\n",
    "for ts in minutes:\n",
    "    for feed in missing:\n",
    "        path = compose_path(ts, processed_rt, feed)\n",
    "        if not path.exists():\n",
    "            continue\n",
    "        schema = pq.read_schema(path)\n",
    "        if \"snapshot_timestamp\" not in schema.names:\n",
    "            missing[feed].append(path)\n",
    "\n",
    "for feed, paths in missing.items():\n",
    "    print(f\"\\n{feed} ({len(paths)} files missing snapshot_timestamp)\")\n",
    "    for p in paths:\n",
    "        print(\" \", p)"
   ]
  },
  {
   "cell_type": "code",
   "execution_count": null,
   "id": "f42a18fd",
   "metadata": {},
   "outputs": [],
   "source": [
    "minutes = discover_all_snapshot_minutes(processed_rt)\n",
    "missing_columns = []\n",
    "null_values = []\n",
    "\n",
    "for ts in minutes:\n",
    "    file = compose_path(ts, processed_rt, \"trip_updates\")\n",
    "    if not file.exists():\n",
    "        continue\n",
    "\n",
    "    df = pd.read_parquet(file)\n",
    "\n",
    "    required = {\"route_id\", \"direction_id\"}\n",
    "    cols_missing = required - set(df.columns)\n",
    "\n",
    "    if cols_missing:\n",
    "        missing_columns.append((file, sorted(cols_missing)))\n",
    "        continue\n",
    "\n",
    "    if df[[\"route_id\", \"direction_id\"]].isna().any().any():\n",
    "        null_values.append(file)\n",
    "\n",
    "print(\"Files missing columns:\", missing_columns)\n",
    "print(\"Files with null route/direction_id:\", null_values)"
   ]
  }
 ],
 "metadata": {
  "kernelspec": {
   "display_name": "mdi_env",
   "language": "python",
   "name": "python3"
  },
  "language_info": {
   "codemirror_mode": {
    "name": "ipython",
    "version": 3
   },
   "file_extension": ".py",
   "mimetype": "text/x-python",
   "name": "python",
   "nbconvert_exporter": "python",
   "pygments_lexer": "ipython3",
   "version": "3.10.17"
  }
 },
 "nbformat": 4,
 "nbformat_minor": 5
}
