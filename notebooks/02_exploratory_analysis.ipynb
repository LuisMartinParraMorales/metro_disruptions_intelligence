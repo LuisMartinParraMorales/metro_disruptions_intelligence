{
 "cells": [
  {
   "cell_type": "markdown",
   "id": "2d9bafd3",
   "metadata": {},
   "source": [
    "# Exploratory Data Analysis"
   ]
  },
  {
   "cell_type": "markdown",
   "id": "c9683508",
   "metadata": {},
   "source": [
    "This notebook demonstrates how to load all processed real-time GTFS files and perform a basic exploratory analysis."
   ]
  },
  {
   "cell_type": "code",
   "execution_count": null,
   "id": "6de66aaf",
   "metadata": {},
   "outputs": [],
   "source": [
    "from pathlib import Path\n",
    "\n",
    "import pandas as pd\n",
    "\n",
    "from metro_disruptions_intelligence.processed_reader import load_rt_dataset"
   ]
  },
  {
   "cell_type": "code",
   "execution_count": null,
   "id": "ea2d273f",
   "metadata": {},
   "outputs": [],
   "source": [
    "project_root = Path.cwd()\n",
    "if not (project_root / \"data\").exists():\n",
    "    project_root = project_root.parent\n",
    "processed_rt = project_root / \"data\" / \"processed\" / \"rt\""
   ]
  },
  {
   "cell_type": "code",
   "execution_count": null,
   "id": "ff655d55",
   "metadata": {},
   "outputs": [],
   "source": [
    "df = load_rt_dataset(processed_rt)\n",
    "df.head()"
   ]
  },
  {
   "cell_type": "code",
   "execution_count": null,
   "id": "4439475b",
   "metadata": {},
   "outputs": [],
   "source": [
    "df[\"feed_type\"].value_counts()"
   ]
  },
  {
   "cell_type": "code",
   "execution_count": null,
   "id": "ef4e8bdd",
   "metadata": {},
   "outputs": [],
   "source": [
    "pd.to_datetime(df[\"snapshot_timestamp\"], unit=\"s\").describe()"
   ]
  }
 ],
 "metadata": {},
 "nbformat": 4,
 "nbformat_minor": 5
}
