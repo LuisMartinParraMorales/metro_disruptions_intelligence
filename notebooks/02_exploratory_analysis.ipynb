{
 "cells": [
  {
   "cell_type": "markdown",
   "id": "2d9bafd3",
   "metadata": {},
   "source": [
    "# Exploratory Data Analysis"
   ]
  },
  {
   "cell_type": "markdown",
   "id": "c9683508",
   "metadata": {},
   "source": [
    "This notebook demonstrates how to load all processed real-time GTFS files and perform a basic exploratory analysis."
   ]
  },
  {
   "cell_type": "code",
   "execution_count": 1,
   "id": "6de66aaf",
   "metadata": {},
   "outputs": [],
   "source": [
    "from pathlib import Path\n",
    "\n",
    "import pandas as pd\n",
    "\n",
    "from metro_disruptions_intelligence.processed_reader import load_rt_dataset"
   ]
  },
  {
   "cell_type": "code",
   "execution_count": 5,
   "id": "ea2d273f",
   "metadata": {},
   "outputs": [],
   "source": [
    "project_root = Path.cwd()\n",
    "if not (project_root / \"data\").exists():\n",
    "    project_root = project_root.parent\n",
    "processed_rt = project_root / \"data\" / \"final_processed\" / \"rt\""
   ]
  },
  {
   "cell_type": "code",
   "execution_count": 6,
   "id": "0360f9ff",
   "metadata": {},
   "outputs": [
    {
     "name": "stdout",
     "output_type": "stream",
     "text": [
      "c:\\Users\\Luis.ParraMorales\\GitProjects\\metro_disruptions_intelligence\\data\\final_processed\\rt\n"
     ]
    }
   ],
   "source": [
    "print(processed_rt)"
   ]
  },
  {
   "cell_type": "code",
   "execution_count": 7,
   "id": "ff655d55",
   "metadata": {},
   "outputs": [
    {
     "data": {
      "text/html": [
       "<div>\n",
       "<style scoped>\n",
       "    .dataframe tbody tr th:only-of-type {\n",
       "        vertical-align: middle;\n",
       "    }\n",
       "\n",
       "    .dataframe tbody tr th {\n",
       "        vertical-align: top;\n",
       "    }\n",
       "\n",
       "    .dataframe thead th {\n",
       "        text-align: right;\n",
       "    }\n",
       "</style>\n",
       "<table border=\"1\" class=\"dataframe\">\n",
       "  <thead>\n",
       "    <tr style=\"text-align: right;\">\n",
       "      <th></th>\n",
       "    </tr>\n",
       "  </thead>\n",
       "  <tbody>\n",
       "  </tbody>\n",
       "</table>\n",
       "</div>"
      ],
      "text/plain": [
       "Empty DataFrame\n",
       "Columns: []\n",
       "Index: []"
      ]
     },
     "execution_count": 7,
     "metadata": {},
     "output_type": "execute_result"
    }
   ],
   "source": [
    "df = load_rt_dataset(processed_rt)\n",
    "df.head()"
   ]
  },
  {
   "cell_type": "code",
   "execution_count": null,
   "id": "4439475b",
   "metadata": {},
   "outputs": [],
   "source": [
    "df[\"feed_type\"].value_counts()"
   ]
  },
  {
   "cell_type": "code",
   "execution_count": null,
   "id": "ef4e8bdd",
   "metadata": {},
   "outputs": [],
   "source": [
    "pd.to_datetime(df[\"snapshot_timestamp\"], unit=\"s\").describe()"
   ]
  }
 ],
 "metadata": {
  "kernelspec": {
   "display_name": "mdi_env",
   "language": "python",
   "name": "python3"
  },
  "language_info": {
   "codemirror_mode": {
    "name": "ipython",
    "version": 3
   },
   "file_extension": ".py",
   "mimetype": "text/x-python",
   "name": "python",
   "nbconvert_exporter": "python",
   "pygments_lexer": "ipython3",
   "version": "3.10.17"
  }
 },
 "nbformat": 4,
 "nbformat_minor": 5
}
