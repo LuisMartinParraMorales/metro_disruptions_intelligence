{
 "cells": [
  {
   "cell_type": "markdown",
   "id": "7fb27b941602401d91542211134fc71a",
   "metadata": {},
   "source": [
    "# Build station features and exploratory analysis"
   ]
  },
  {
   "cell_type": "markdown",
   "id": "acae54e37e7d407bbb7b55eff062a284",
   "metadata": {},
   "source": [
    "This notebook processes minute-level GTFS-realtime snapshots, \nbuilds station-level features and explores the resulting dataset."
   ]
  },
  {
   "cell_type": "code",
   "execution_count": 1,
   "id": "9a63283cbaf04dbcab1f6479b197f3a8",
   "metadata": {},
   "outputs": [],
   "source": [
    "from pathlib import Path\n",
    "from datetime import datetime\n",
    "import pandas as pd\n",
    "import numpy as np\n",
    "import matplotlib.pyplot as plt\n",
    "import pytz\n",
    "\n",
    "from metro_disruptions_intelligence.processed_reader import load_rt_dataset\n",
    "from metro_disruptions_intelligence.features import SnapshotFeatureBuilder"
   ]
  },
  {
   "cell_type": "code",
   "execution_count": 2,
   "id": "8dd0d8092fe74a7c96281538738b07e2",
   "metadata": {},
   "outputs": [],
   "source": [
    "project_root = Path.cwd()\n",
    "if not (project_root / \"notebooks\").exists():\n",
    "    project_root = project_root.parent\n",
    "\n",
    "processed_rt = project_root / \"data\" / \"processed_final\" / \"rt\"\n",
    "features_root = project_root / \"data\" / \"stations_features_time_series\"\n",
    "features_root.mkdir(parents=True, exist_ok=True)"
   ]
  },
  {
   "cell_type": "code",
   "execution_count": 3,
   "id": "72eea5119410473aa328ad9291626812",
   "metadata": {},
   "outputs": [],
   "source": [
    "processed_rt, features_root"
   ]
  },
  {
   "cell_type": "markdown",
   "id": "8edb47106e1a46a883d545849b8ab81b",
   "metadata": {},
   "source": [
    "## Available routes"
   ]
  },
  {
   "cell_type": "code",
   "execution_count": 4,
   "id": "10185d26023b46108eb7d9f57d49d2b3",
   "metadata": {},
   "outputs": [],
   "source": [
    "trip_ds = load_rt_dataset(processed_rt, feeds=[\"trip_updates\"])\n",
    "unique_routes = trip_ds[\"route_id\"].unique()\n",
    "print(\"Routes found:\", unique_routes)"
   ]
  },
  {
   "cell_type": "markdown",
   "id": "8763a12b2bbd4a93a75aff182afb95dc",
   "metadata": {},
   "source": [
    "## Helper functions"
   ]
  },
  {
   "cell_type": "code",
   "execution_count": 5,
   "id": "7623eae2785240b9bd12b16a66d81610",
   "metadata": {},
   "outputs": [],
   "source": [
    "def discover_all_snapshot_minutes(root: Path) -> list[int]:\n",
    "    files = sorted((root / \"trip_updates\").rglob(\"trip_updates_*.parquet\"))\n",
    "    minutes = []\n",
    "    for f in files:\n",
    "        parts = f.stem.split(\"_\")\n",
    "        if len(parts) >= 6:\n",
    "            _, Y, D, M, H, m = parts\n",
    "            dt = datetime(int(Y), int(M), int(D), int(H), int(m), tzinfo=pytz.UTC)\n",
    "            minutes.append(int(dt.timestamp()))\n",
    "    return sorted(minutes)\n",
    "\n",
    "\n",
    "def compose_path(ts: int, root: Path, feed: str) -> Path:\n",
    "    dt = datetime.fromtimestamp(ts, tz=pytz.UTC)\n",
    "    fname = f\"{feed}_{dt:%Y-%d-%m-%H-%M}.parquet\"\n",
    "    return (\n",
    "        root / feed / f\"year={dt.year:04d}\" / f\"month={dt.month:02d}\" / f\"day={dt.day:02d}\" / fname\n",
    "    )\n",
    "\n",
    "\n",
    "def build_route_map(root: Path) -> dict:\n",
    "    first = sorted((root / \"trip_updates\").rglob(\"*.parquet\"))[0]\n",
    "    df = pd.read_parquet(first)\n",
    "    tu = df[[\"route_id\", \"direction_id\", \"stop_id\", \"stop_sequence\"]].drop_duplicates()\n",
    "    tu = tu.sort_values([\"route_id\", \"direction_id\", \"stop_sequence\"])\n",
    "    return tu.groupby([\"route_id\", \"direction_id\"])[\"stop_id\"].apply(list).to_dict()"
   ]
  },
  {
   "cell_type": "markdown",
   "id": "7cdc8c89c7104fffa095e18ddfef8986",
   "metadata": {},
   "source": [
    "## Generate features"
   ]
  },
  {
   "cell_type": "code",
   "execution_count": 6,
   "id": "b118ea5561624da68c537baed56e602f",
   "metadata": {},
   "outputs": [],
   "source": [
    "minutes = discover_all_snapshot_minutes(processed_rt)\n",
    "route_map = build_route_map(processed_rt)\n",
    "builder = SnapshotFeatureBuilder(route_map)\n",
    "\n",
    "for ts in minutes:\n",
    "    tu_file = compose_path(ts, processed_rt, \"trip_updates\")\n",
    "    vp_file = compose_path(ts, processed_rt, \"vehicle_positions\")\n",
    "    if not tu_file.exists() or not vp_file.exists():\n",
    "        continue\n",
    "    trip_now = pd.read_parquet(tu_file)\n",
    "    veh_now = pd.read_parquet(vp_file)\n",
    "    feats = builder.build_snapshot_features(trip_now, veh_now, ts)\n",
    "    if feats.empty:\n",
    "        continue\n",
    "    feats = feats.reset_index()\n",
    "    feats[\"snapshot_timestamp\"] = ts\n",
    "    dt = datetime.fromtimestamp(ts, tz=pytz.UTC)\n",
    "    out_dir = features_root / f\"year={dt.year:04d}\" / f\"month={dt.month:02d}\" / f\"day={dt.day:02d}\"\n",
    "    out_dir.mkdir(parents=True, exist_ok=True)\n",
    "    out_file = out_dir / f\"stations_feats_{dt:%Y-%d-%m-%H-%M}.parquet\"\n",
    "    feats.to_parquet(out_file, compression=\"snappy\", index=False)"
   ]
  },
  {
   "cell_type": "markdown",
   "id": "938c804e27f84196a10c8828c723f798",
   "metadata": {},
   "source": [
    "## Load generated features"
   ]
  },
  {
   "cell_type": "code",
   "execution_count": 7,
   "id": "504fb2a444614c0babb325280ed9130a",
   "metadata": {},
   "outputs": [],
   "source": [
    "feature_files = sorted(features_root.rglob(\"stations_feats_*.parquet\"))\n",
    "feats_all = pd.concat([pd.read_parquet(f) for f in feature_files], ignore_index=True)\n",
    "feats_all[\"snapshot_timestamp\"] = pd.to_datetime(\n",
    "    feats_all[\"snapshot_timestamp\"], unit=\"s\", utc=True\n",
    ").dt.tz_convert(\"Australia/Sydney\")\n",
    "feats_all.info()"
   ]
  },
  {
   "cell_type": "code",
   "execution_count": 8,
   "id": "59bbdb311c014d738909a11f9e486628",
   "metadata": {},
   "outputs": [],
   "source": [
    "feats_all.isna().mean()"
   ]
  },
  {
   "cell_type": "code",
   "execution_count": 9,
   "id": "b43b363d81ae4b689946ece5c682cd59",
   "metadata": {},
   "outputs": [],
   "source": [
    "feats_all.describe()"
   ]
  },
  {
   "cell_type": "markdown",
   "id": "8a65eabff63a45729fe45fb5ade58bdc",
   "metadata": {},
   "source": [
    "## Plot headways and delays"
   ]
  },
  {
   "cell_type": "code",
   "execution_count": 10,
   "id": "c3933fab20d04ec698c2621248eb3be0",
   "metadata": {},
   "outputs": [],
   "source": [
    "days = np.random.choice(feats_all[\"snapshot_timestamp\"].dt.date.unique(), 2, replace=False)\n",
    "stations = np.random.choice(feats_all[\"stop_id\"].unique(), 2, replace=False)\n",
    "for stop in stations:\n",
    "    plt.figure()\n",
    "    sub = feats_all[feats_all[\"stop_id\"] == stop]\n",
    "    for day in days:\n",
    "        day_sub = sub[sub[\"snapshot_timestamp\"].dt.date == day]\n",
    "        plt.plot(day_sub[\"snapshot_timestamp\"], day_sub[\"headway_t\"], label=str(day))\n",
    "    plt.title(f\"Headway at stop {stop}\")\n",
    "    plt.legend()\n",
    "    plt.xticks(rotation=45)\n",
    "    plt.show()\n",
    "for stop in stations:\n",
    "    plt.figure()\n",
    "    sub = feats_all[feats_all[\"stop_id\"] == stop]\n",
    "    for day in days:\n",
    "        day_sub = sub[sub[\"snapshot_timestamp\"].dt.date == day]\n",
    "        plt.plot(day_sub[\"snapshot_timestamp\"], day_sub[\"arrival_delay_t\"], label=str(day))\n",
    "    plt.title(f\"Delay at stop {stop}\")\n",
    "    plt.legend()\n",
    "    plt.xticks(rotation=45)\n",
    "    plt.show()"
   ]
  }
 ],
 "metadata": {
  "kernelspec": {
   "display_name": "mdi_env",
   "language": "python",
   "name": "python3"
  },
  "language_info": {
   "name": "python"
  }
 },
 "nbformat": 4,
 "nbformat_minor": 5
}
