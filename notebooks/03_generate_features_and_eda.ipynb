{
 "cells": [
  {
   "cell_type": "markdown",
   "id": "7fb27b941602401d91542211134fc71a",
   "metadata": {},
   "source": [
    "# Build station features and exploratory analysis"
   ]
  },
  {
   "cell_type": "markdown",
   "id": "acae54e37e7d407bbb7b55eff062a284",
   "metadata": {},
   "source": [
    "This notebook processes minute-level GTFS-realtime snapshots, \n",
    "builds station-level features and explores the resulting dataset."
   ]
  },
  {
   "cell_type": "code",
   "execution_count": 1,
   "id": "9a63283cbaf04dbcab1f6479b197f3a8",
   "metadata": {},
   "outputs": [],
   "source": [
    "from datetime import datetime\n",
    "from pathlib import Path\n",
    "\n",
    "import matplotlib.pyplot as plt\n",
    "import numpy as np\n",
    "import pandas as pd\n",
    "import pytz\n",
    "\n",
    "from metro_disruptions_intelligence.features import SnapshotFeatureBuilder\n",
    "from metro_disruptions_intelligence.processed_reader import load_rt_dataset"
   ]
  },
  {
   "cell_type": "code",
   "execution_count": 2,
   "id": "8dd0d8092fe74a7c96281538738b07e2",
   "metadata": {},
   "outputs": [],
   "source": [
    "project_root = Path.cwd()\n",
    "if not (project_root / \"notebooks\").exists():\n",
    "    project_root = project_root.parent\n",
    "\n",
    "processed_rt = project_root / \"data\" / \"processed_final\" / \"rt\"\n",
    "features_root = project_root / \"data\" / \"stations_features_time_series\"\n",
    "features_root.mkdir(parents=True, exist_ok=True)"
   ]
  },
  {
   "cell_type": "code",
   "execution_count": 5,
   "id": "72eea5119410473aa328ad9291626812",
   "metadata": {},
   "outputs": [
    {
     "data": {
      "text/plain": [
       "(WindowsPath('c:/Users/Luis.ParraMorales/GitProjects/metro_disruptions_intelligence/data/processed_final/rt'),\n",
       " WindowsPath('c:/Users/Luis.ParraMorales/GitProjects/metro_disruptions_intelligence/data/stations_features_time_series'))"
      ]
     },
     "execution_count": 5,
     "metadata": {},
     "output_type": "execute_result"
    }
   ],
   "source": [
    "processed_rt, features_root"
   ]
  },
  {
   "cell_type": "markdown",
   "id": "8edb47106e1a46a883d545849b8ab81b",
   "metadata": {},
   "source": [
    "## Available routes"
   ]
  },
  {
   "cell_type": "code",
   "execution_count": 6,
   "id": "10185d26023b46108eb7d9f57d49d2b3",
   "metadata": {},
   "outputs": [
    {
     "name": "stdout",
     "output_type": "stream",
     "text": [
      "Routes found: ['SMNW_M1']\n"
     ]
    }
   ],
   "source": [
    "trip_ds = load_rt_dataset(processed_rt, feeds=[\"trip_updates\"])\n",
    "unique_routes = trip_ds[\"route_id\"].unique()\n",
    "print(\"Routes found:\", unique_routes)"
   ]
  },
  {
   "cell_type": "markdown",
   "id": "8763a12b2bbd4a93a75aff182afb95dc",
   "metadata": {},
   "source": [
    "## Helper functions"
   ]
  },
  {
   "cell_type": "code",
   "execution_count": 7,
   "id": "7623eae2785240b9bd12b16a66d81610",
   "metadata": {},
   "outputs": [],
   "source": [
    "def discover_all_snapshot_minutes(root: Path) -> list[int]:\n",
    "    \"\"\"Return all snapshot minutes from trip update files.\"\"\"\n",
    "    files = sorted((root / \"trip_updates\").rglob(\"trip_updates_*.parquet\"))\n",
    "    minutes = []\n",
    "    for f in files:\n",
    "        ts_part = f.stem.split(\"trip_updates_\")[-1]\n",
    "        try:\n",
    "            dt = datetime.strptime(ts_part, \"%Y-%d-%m-%H-%M\").replace(tzinfo=pytz.UTC)\n",
    "        except ValueError:\n",
    "            continue\n",
    "        minutes.append(int(dt.timestamp()))\n",
    "    return sorted(minutes)\n",
    "\n",
    "\n",
    "def compose_path(ts: int, root: Path, feed: str) -> Path:\n",
    "    \"\"\"Construct path for a feed timestamp.\"\"\"\n",
    "    dt = datetime.fromtimestamp(ts, tz=pytz.UTC)\n",
    "    fname = f\"{feed}_{dt:%Y-%d-%m-%H-%M}.parquet\"\n",
    "    return (\n",
    "        root / feed / f\"year={dt.year:04d}\" / f\"month={dt.month:02d}\" / f\"day={dt.day:02d}\" / fname\n",
    "    )\n",
    "\n",
    "\n",
    "def build_route_map(root: Path) -> dict:\n",
    "    \"\"\"Return route-to-stop mapping from first snapshot.\"\"\"\n",
    "    first = sorted((root / \"trip_updates\").rglob(\"*.parquet\"))[0]\n",
    "    df = pd.read_parquet(first)\n",
    "    tu = df[[\"route_id\", \"direction_id\", \"stop_id\", \"stop_sequence\"]].drop_duplicates()\n",
    "    tu = tu.sort_values([\"route_id\", \"direction_id\", \"stop_sequence\"])\n",
    "    return tu.groupby([\"route_id\", \"direction_id\"])[\"stop_id\"].apply(list).to_dict()"
   ]
  },
  {
   "cell_type": "markdown",
   "id": "7cdc8c89c7104fffa095e18ddfef8986",
   "metadata": {},
   "source": [
    "## Generate features"
   ]
  },
  {
   "cell_type": "code",
   "execution_count": 8,
   "id": "b118ea5561624da68c537baed56e602f",
   "metadata": {},
   "outputs": [],
   "source": [
    "minutes = discover_all_snapshot_minutes(processed_rt)\n",
    "route_map = build_route_map(processed_rt)\n",
    "builder = SnapshotFeatureBuilder(route_map)\n",
    "\n",
    "for ts in minutes:\n",
    "    tu_file = compose_path(ts, processed_rt, \"trip_updates\")\n",
    "    vp_file = compose_path(ts, processed_rt, \"vehicle_positions\")\n",
    "    if not tu_file.exists() or not vp_file.exists():\n",
    "        continue\n",
    "    trip_now = pd.read_parquet(tu_file)\n",
    "    veh_now = pd.read_parquet(vp_file)\n",
    "    feats = builder.build_snapshot_features(trip_now, veh_now, ts)\n",
    "    if feats.empty:\n",
    "        continue\n",
    "    feats = feats.reset_index()\n",
    "    feats[\"snapshot_timestamp\"] = ts\n",
    "    dt = datetime.fromtimestamp(ts, tz=pytz.UTC)\n",
    "    out_dir = features_root / f\"year={dt.year:04d}\" / f\"month={dt.month:02d}\" / f\"day={dt.day:02d}\"\n",
    "    out_dir.mkdir(parents=True, exist_ok=True)\n",
    "    out_file = out_dir / f\"stations_feats_{dt:%Y-%d-%m-%H-%M}.parquet\"\n",
    "    feats.to_parquet(out_file, compression=\"snappy\", index=False)"
   ]
  },
  {
   "cell_type": "markdown",
   "id": "938c804e27f84196a10c8828c723f798",
   "metadata": {},
   "source": [
    "## Load generated features"
   ]
  },
  {
   "cell_type": "code",
   "execution_count": 10,
   "id": "cba75894",
   "metadata": {},
   "outputs": [
    {
     "name": "stdout",
     "output_type": "stream",
     "text": [
      "c:\\Users\\Luis.ParraMorales\\GitProjects\\metro_disruptions_intelligence\\data\\stations_features_time_series\n"
     ]
    }
   ],
   "source": [
    "print(features_root)"
   ]
  },
  {
   "cell_type": "code",
   "execution_count": 9,
   "id": "504fb2a444614c0babb325280ed9130a",
   "metadata": {},
   "outputs": [
    {
     "ename": "ValueError",
     "evalue": "No objects to concatenate",
     "output_type": "error",
     "traceback": [
      "\u001b[1;31m---------------------------------------------------------------------------\u001b[0m",
      "\u001b[1;31mValueError\u001b[0m                                Traceback (most recent call last)",
      "Cell \u001b[1;32mIn[9], line 2\u001b[0m\n\u001b[0;32m      1\u001b[0m feature_files \u001b[38;5;241m=\u001b[39m \u001b[38;5;28msorted\u001b[39m(features_root\u001b[38;5;241m.\u001b[39mrglob(\u001b[38;5;124m\"\u001b[39m\u001b[38;5;124mstations_feats_*.parquet\u001b[39m\u001b[38;5;124m\"\u001b[39m))\n\u001b[1;32m----> 2\u001b[0m feats_all \u001b[38;5;241m=\u001b[39m \u001b[43mpd\u001b[49m\u001b[38;5;241;43m.\u001b[39;49m\u001b[43mconcat\u001b[49m\u001b[43m(\u001b[49m\u001b[43m[\u001b[49m\u001b[43mpd\u001b[49m\u001b[38;5;241;43m.\u001b[39;49m\u001b[43mread_parquet\u001b[49m\u001b[43m(\u001b[49m\u001b[43mf\u001b[49m\u001b[43m)\u001b[49m\u001b[43m \u001b[49m\u001b[38;5;28;43;01mfor\u001b[39;49;00m\u001b[43m \u001b[49m\u001b[43mf\u001b[49m\u001b[43m \u001b[49m\u001b[38;5;129;43;01min\u001b[39;49;00m\u001b[43m \u001b[49m\u001b[43mfeature_files\u001b[49m\u001b[43m]\u001b[49m\u001b[43m,\u001b[49m\u001b[43m \u001b[49m\u001b[43mignore_index\u001b[49m\u001b[38;5;241;43m=\u001b[39;49m\u001b[38;5;28;43;01mTrue\u001b[39;49;00m\u001b[43m)\u001b[49m\n\u001b[0;32m      3\u001b[0m feats_all[\u001b[38;5;124m\"\u001b[39m\u001b[38;5;124msnapshot_timestamp\u001b[39m\u001b[38;5;124m\"\u001b[39m] \u001b[38;5;241m=\u001b[39m pd\u001b[38;5;241m.\u001b[39mto_datetime(\n\u001b[0;32m      4\u001b[0m     feats_all[\u001b[38;5;124m\"\u001b[39m\u001b[38;5;124msnapshot_timestamp\u001b[39m\u001b[38;5;124m\"\u001b[39m], unit\u001b[38;5;241m=\u001b[39m\u001b[38;5;124m\"\u001b[39m\u001b[38;5;124ms\u001b[39m\u001b[38;5;124m\"\u001b[39m, utc\u001b[38;5;241m=\u001b[39m\u001b[38;5;28;01mTrue\u001b[39;00m\n\u001b[0;32m      5\u001b[0m )\u001b[38;5;241m.\u001b[39mdt\u001b[38;5;241m.\u001b[39mtz_convert(\u001b[38;5;124m\"\u001b[39m\u001b[38;5;124mAustralia/Sydney\u001b[39m\u001b[38;5;124m\"\u001b[39m)\n\u001b[0;32m      6\u001b[0m feats_all\u001b[38;5;241m.\u001b[39minfo()\n",
      "File \u001b[1;32mc:\\Users\\Luis.ParraMorales\\AppData\\Local\\miniforge3\\envs\\mdi_env\\lib\\site-packages\\pandas\\core\\reshape\\concat.py:382\u001b[0m, in \u001b[0;36mconcat\u001b[1;34m(objs, axis, join, ignore_index, keys, levels, names, verify_integrity, sort, copy)\u001b[0m\n\u001b[0;32m    379\u001b[0m \u001b[38;5;28;01melif\u001b[39;00m copy \u001b[38;5;129;01mand\u001b[39;00m using_copy_on_write():\n\u001b[0;32m    380\u001b[0m     copy \u001b[38;5;241m=\u001b[39m \u001b[38;5;28;01mFalse\u001b[39;00m\n\u001b[1;32m--> 382\u001b[0m op \u001b[38;5;241m=\u001b[39m \u001b[43m_Concatenator\u001b[49m\u001b[43m(\u001b[49m\n\u001b[0;32m    383\u001b[0m \u001b[43m    \u001b[49m\u001b[43mobjs\u001b[49m\u001b[43m,\u001b[49m\n\u001b[0;32m    384\u001b[0m \u001b[43m    \u001b[49m\u001b[43maxis\u001b[49m\u001b[38;5;241;43m=\u001b[39;49m\u001b[43maxis\u001b[49m\u001b[43m,\u001b[49m\n\u001b[0;32m    385\u001b[0m \u001b[43m    \u001b[49m\u001b[43mignore_index\u001b[49m\u001b[38;5;241;43m=\u001b[39;49m\u001b[43mignore_index\u001b[49m\u001b[43m,\u001b[49m\n\u001b[0;32m    386\u001b[0m \u001b[43m    \u001b[49m\u001b[43mjoin\u001b[49m\u001b[38;5;241;43m=\u001b[39;49m\u001b[43mjoin\u001b[49m\u001b[43m,\u001b[49m\n\u001b[0;32m    387\u001b[0m \u001b[43m    \u001b[49m\u001b[43mkeys\u001b[49m\u001b[38;5;241;43m=\u001b[39;49m\u001b[43mkeys\u001b[49m\u001b[43m,\u001b[49m\n\u001b[0;32m    388\u001b[0m \u001b[43m    \u001b[49m\u001b[43mlevels\u001b[49m\u001b[38;5;241;43m=\u001b[39;49m\u001b[43mlevels\u001b[49m\u001b[43m,\u001b[49m\n\u001b[0;32m    389\u001b[0m \u001b[43m    \u001b[49m\u001b[43mnames\u001b[49m\u001b[38;5;241;43m=\u001b[39;49m\u001b[43mnames\u001b[49m\u001b[43m,\u001b[49m\n\u001b[0;32m    390\u001b[0m \u001b[43m    \u001b[49m\u001b[43mverify_integrity\u001b[49m\u001b[38;5;241;43m=\u001b[39;49m\u001b[43mverify_integrity\u001b[49m\u001b[43m,\u001b[49m\n\u001b[0;32m    391\u001b[0m \u001b[43m    \u001b[49m\u001b[43mcopy\u001b[49m\u001b[38;5;241;43m=\u001b[39;49m\u001b[43mcopy\u001b[49m\u001b[43m,\u001b[49m\n\u001b[0;32m    392\u001b[0m \u001b[43m    \u001b[49m\u001b[43msort\u001b[49m\u001b[38;5;241;43m=\u001b[39;49m\u001b[43msort\u001b[49m\u001b[43m,\u001b[49m\n\u001b[0;32m    393\u001b[0m \u001b[43m\u001b[49m\u001b[43m)\u001b[49m\n\u001b[0;32m    395\u001b[0m \u001b[38;5;28;01mreturn\u001b[39;00m op\u001b[38;5;241m.\u001b[39mget_result()\n",
      "File \u001b[1;32mc:\\Users\\Luis.ParraMorales\\AppData\\Local\\miniforge3\\envs\\mdi_env\\lib\\site-packages\\pandas\\core\\reshape\\concat.py:445\u001b[0m, in \u001b[0;36m_Concatenator.__init__\u001b[1;34m(self, objs, axis, join, keys, levels, names, ignore_index, verify_integrity, copy, sort)\u001b[0m\n\u001b[0;32m    442\u001b[0m \u001b[38;5;28mself\u001b[39m\u001b[38;5;241m.\u001b[39mverify_integrity \u001b[38;5;241m=\u001b[39m verify_integrity\n\u001b[0;32m    443\u001b[0m \u001b[38;5;28mself\u001b[39m\u001b[38;5;241m.\u001b[39mcopy \u001b[38;5;241m=\u001b[39m copy\n\u001b[1;32m--> 445\u001b[0m objs, keys \u001b[38;5;241m=\u001b[39m \u001b[38;5;28;43mself\u001b[39;49m\u001b[38;5;241;43m.\u001b[39;49m\u001b[43m_clean_keys_and_objs\u001b[49m\u001b[43m(\u001b[49m\u001b[43mobjs\u001b[49m\u001b[43m,\u001b[49m\u001b[43m \u001b[49m\u001b[43mkeys\u001b[49m\u001b[43m)\u001b[49m\n\u001b[0;32m    447\u001b[0m \u001b[38;5;66;03m# figure out what our result ndim is going to be\u001b[39;00m\n\u001b[0;32m    448\u001b[0m ndims \u001b[38;5;241m=\u001b[39m \u001b[38;5;28mself\u001b[39m\u001b[38;5;241m.\u001b[39m_get_ndims(objs)\n",
      "File \u001b[1;32mc:\\Users\\Luis.ParraMorales\\AppData\\Local\\miniforge3\\envs\\mdi_env\\lib\\site-packages\\pandas\\core\\reshape\\concat.py:507\u001b[0m, in \u001b[0;36m_Concatenator._clean_keys_and_objs\u001b[1;34m(self, objs, keys)\u001b[0m\n\u001b[0;32m    504\u001b[0m     objs_list \u001b[38;5;241m=\u001b[39m \u001b[38;5;28mlist\u001b[39m(objs)\n\u001b[0;32m    506\u001b[0m \u001b[38;5;28;01mif\u001b[39;00m \u001b[38;5;28mlen\u001b[39m(objs_list) \u001b[38;5;241m==\u001b[39m \u001b[38;5;241m0\u001b[39m:\n\u001b[1;32m--> 507\u001b[0m     \u001b[38;5;28;01mraise\u001b[39;00m \u001b[38;5;167;01mValueError\u001b[39;00m(\u001b[38;5;124m\"\u001b[39m\u001b[38;5;124mNo objects to concatenate\u001b[39m\u001b[38;5;124m\"\u001b[39m)\n\u001b[0;32m    509\u001b[0m \u001b[38;5;28;01mif\u001b[39;00m keys \u001b[38;5;129;01mis\u001b[39;00m \u001b[38;5;28;01mNone\u001b[39;00m:\n\u001b[0;32m    510\u001b[0m     objs_list \u001b[38;5;241m=\u001b[39m \u001b[38;5;28mlist\u001b[39m(com\u001b[38;5;241m.\u001b[39mnot_none(\u001b[38;5;241m*\u001b[39mobjs_list))\n",
      "\u001b[1;31mValueError\u001b[0m: No objects to concatenate"
     ]
    }
   ],
   "source": [
    "feature_files = sorted(features_root.rglob(\"stations_feats_*.parquet\"))\n",
    "feats_all = pd.concat([pd.read_parquet(f) for f in feature_files], ignore_index=True)\n",
    "feats_all[\"snapshot_timestamp\"] = pd.to_datetime(\n",
    "    feats_all[\"snapshot_timestamp\"], unit=\"s\", utc=True\n",
    ").dt.tz_convert(\"Australia/Sydney\")\n",
    "feats_all.info()"
   ]
  },
  {
   "cell_type": "code",
   "execution_count": null,
   "id": "59bbdb311c014d738909a11f9e486628",
   "metadata": {},
   "outputs": [],
   "source": [
    "feats_all.isna().mean()"
   ]
  },
  {
   "cell_type": "code",
   "execution_count": null,
   "id": "b43b363d81ae4b689946ece5c682cd59",
   "metadata": {},
   "outputs": [],
   "source": [
    "feats_all.describe()"
   ]
  },
  {
   "cell_type": "markdown",
   "id": "8a65eabff63a45729fe45fb5ade58bdc",
   "metadata": {},
   "source": [
    "## Plot headways and delays"
   ]
  },
  {
   "cell_type": "code",
   "execution_count": null,
   "id": "c3933fab20d04ec698c2621248eb3be0",
   "metadata": {},
   "outputs": [],
   "source": [
    "days = np.random.choice(feats_all[\"snapshot_timestamp\"].dt.date.unique(), 2, replace=False)\n",
    "stations = np.random.choice(feats_all[\"stop_id\"].unique(), 2, replace=False)\n",
    "for stop in stations:\n",
    "    plt.figure()\n",
    "    sub = feats_all[feats_all[\"stop_id\"] == stop]\n",
    "    for day in days:\n",
    "        day_sub = sub[sub[\"snapshot_timestamp\"].dt.date == day]\n",
    "        plt.plot(day_sub[\"snapshot_timestamp\"], day_sub[\"headway_t\"], label=str(day))\n",
    "    plt.title(f\"Headway at stop {stop}\")\n",
    "    plt.legend()\n",
    "    plt.xticks(rotation=45)\n",
    "    plt.show()\n",
    "for stop in stations:\n",
    "    plt.figure()\n",
    "    sub = feats_all[feats_all[\"stop_id\"] == stop]\n",
    "    for day in days:\n",
    "        day_sub = sub[sub[\"snapshot_timestamp\"].dt.date == day]\n",
    "        plt.plot(day_sub[\"snapshot_timestamp\"], day_sub[\"arrival_delay_t\"], label=str(day))\n",
    "    plt.title(f\"Delay at stop {stop}\")\n",
    "    plt.legend()\n",
    "    plt.xticks(rotation=45)\n",
    "    plt.show()"
   ]
  },
  {
   "cell_type": "markdown",
   "id": "c7f2b8be6f7e428e8550a5b114e3d4af",
   "metadata": {},
   "source": [
    "## Sydney Metro M Line\n",
    "The `SMNW_M1` route-id corresponds to the Sydney Metro line currently running Tallawong \u21c4 Chatswood."
   ]
  },
  {
   "cell_type": "code",
   "execution_count": null,
   "id": "cb403d79fb0d488bbb744ed31fbaaa7d",
   "metadata": {},
   "outputs": [],
   "source": [
    "import folium\n",
    "import pandas as pd\n",
    "\n",
    "gtfs_root = project_root / \"sample_data\" / \"static\"\n",
    "routes = pd.read_csv(gtfs_root / \"routes.txt\")\n",
    "stops = pd.read_csv(gtfs_root / \"stops.txt\")\n",
    "trips = pd.read_csv(gtfs_root / \"trips.txt\")\n",
    "stop_times = pd.read_csv(gtfs_root / \"stop_times.txt\")\n",
    "shapes = pd.read_csv(gtfs_root / \"shapes.txt\")\n",
    "\n",
    "m_route = routes[routes[\"route_id\"] == \"SMNW_M1\"]\n",
    "display(m_route)\n",
    "m_trip = trips[trips[\"route_id\"] == \"SMNW_M1\"].iloc[0]\n",
    "shape_points = shapes[shapes[\"shape_id\"] == m_trip[\"shape_id\"]].sort_values(\"shape_pt_sequence\")\n",
    "line = list(zip(shape_points[\"shape_pt_lat\"], shape_points[\"shape_pt_lon\"]))\n",
    "stop_ids = stop_times[stop_times[\"trip_id\"] == m_trip[\"trip_id\"]][\"stop_id\"].unique()\n",
    "stops_subset = stops[stops[\"stop_id\"].isin(stop_ids)]\n",
    "\n",
    "m = folium.Map(location=[-33.8, 151.1], zoom_start=11)\n",
    "folium.PolyLine(line, color=\"blue\", weight=5, opacity=0.7).add_to(m)\n",
    "for _, row in stops_subset.iterrows():\n",
    "    folium.Marker([row.stop_lat, row.stop_lon], popup=f\"{row.stop_name} ({row.stop_id})\").add_to(m)\n",
    "m"
   ]
  }
 ],
 "metadata": {
  "kernelspec": {
   "display_name": "mdi_env",
   "language": "python",
   "name": "python3"
  },
  "language_info": {
   "codemirror_mode": {
    "name": "ipython",
    "version": 3
   },
   "file_extension": ".py",
   "mimetype": "text/x-python",
   "name": "python",
   "nbconvert_exporter": "python",
   "pygments_lexer": "ipython3",
   "version": "3.10.17"
  }
 },
 "nbformat": 4,
 "nbformat_minor": 5
}
