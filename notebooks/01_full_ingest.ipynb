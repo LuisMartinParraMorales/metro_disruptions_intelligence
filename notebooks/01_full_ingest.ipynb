{
 "cells": [
  {
   "cell_type": "markdown",
   "id": "5dfee921",
   "metadata": {},
   "source": [
    "# Full realtime ingestion"
   ]
  },
  {
   "cell_type": "markdown",
   "id": "713037c7",
   "metadata": {},
   "source": [
    "This notebook parses all GTFS realtime snapshots in `METRO_DATA_DIR` and writes partitioned Parquet files to `data/processed/rt`. Existing files will be overwritten."
   ]
  },
  {
   "cell_type": "code",
   "execution_count": null,
   "id": "e32cd689",
   "metadata": {},
   "outputs": [],
   "source": [
    "from pathlib import Path\n",
    "\n",
    "from metro_disruptions_intelligence.etl.ingest_rt import ingest_all_rt"
   ]
  },
  {
   "cell_type": "code",
   "execution_count": null,
   "id": "4a3d4b4e",
   "metadata": {},
   "outputs": [],
   "source": [
    "project_root = Path.cwd()\n",
    "if not (project_root / \"data\").exists():\n",
    "    project_root = project_root.parent\n",
    "METRO_DATA_DIR = project_root / \"data\"\n",
    "METRO_DATA_DIR"
   ]
  },
  {
   "cell_type": "code",
   "execution_count": null,
   "id": "d4d25c07",
   "metadata": {},
   "outputs": [],
   "source": [
    "%%time\n",
    "ingest_all_rt(Path(METRO_DATA_DIR), Path(\"data/processed/rt\"))"
   ]
  },
  {
   "cell_type": "code",
   "execution_count": null,
   "id": "4413e044",
   "metadata": {},
   "outputs": [],
   "source": [
    "# optional\n",
    "# union_all_feeds(Path(\"data/processed/rt\"), Path(\"data/processed/station_event.parquet\"))"
   ]
  },
  {
   "cell_type": "markdown",
   "id": "28886500",
   "metadata": {},
   "source": [
    "Executed on a sample dataset. In practice this step may take several minutes and requires enough disk space for the Parquet output."
   ]
  }
 ],
 "metadata": {},
 "nbformat": 4,
 "nbformat_minor": 5
}
